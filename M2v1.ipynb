{
 "cells": [
  {
   "cell_type": "markdown",
   "id": "d9a52069",
   "metadata": {},
   "source": [
    "### Постановка задачи\n",
    "\n",
    "Просмотр фильмов на оригинальном языке - это популярный и действенный метод обучения иностранным языкам. Важно выбрать фильм, который подходит студенту по уровню сложности, т.е. студент понимал бы 50-70 % диалогов. Чтобы выполнить это условие, преподаватель должен посмотреть фильм и решить, какому уровню он соответствует. Однако это требует больших временных затрат.\n",
    "\n",
    "Наша задача - разработать ML решение для автоматического определения уровня сложности англоязычных фильмов. \n",
    "\n",
    "Программа-максимум:\n",
    "\n",
    "           - языковая модель, \n",
    "           - веб-интерфейс,\n",
    "           - микросервис.  \n",
    "           \n",
    "### Знакомство с исходными данными\n",
    "\n",
    "В качестве исходных данных нам предоставлены размеченные по уровню сложности фильмы и субтитры к ним, словари английского языка с набором слов по уровню.\n",
    "\n",
    "Сначала взглянем на эти файлы, чтоб понять, как можно было бы с ними вообще работать."
   ]
  },
  {
   "cell_type": "code",
   "execution_count": 1,
   "id": "19763c4c",
   "metadata": {},
   "outputs": [],
   "source": [
    "import pysrt\n",
    "import warnings\n",
    "import pandas as pd\n",
    "import os\n",
    "import numpy as np\n",
    "import nltk\n",
    "import re\n",
    "\n",
    "from nltk.corpus import stopwords\n",
    "from nltk.stem import WordNetLemmatizer\n",
    "\n",
    "from sklearn.model_selection import train_test_split, GridSearchCV\n",
    "from sklearn.feature_extraction.text import CountVectorizer, TfidfTransformer\n",
    "from sklearn.pipeline import Pipeline\n",
    "from sklearn.linear_model import LogisticRegression\n",
    "\n",
    "#nltk.download('stopwords')\n",
    "#nltk.download('wordnet')\n",
    "warnings.filterwarnings('ignore')\n",
    "RANDOM = 123"
   ]
  },
  {
   "cell_type": "code",
   "execution_count": 2,
   "id": "704680e1",
   "metadata": {
    "scrolled": true
   },
   "outputs": [],
   "source": [
    "path_A2 = './English_level/English scores/Subtitles_all/A2/The Walking Dead-S01E01-Days Gone Bye.English.srt'"
   ]
  },
  {
   "cell_type": "code",
   "execution_count": 3,
   "id": "ae33812a",
   "metadata": {},
   "outputs": [],
   "source": [
    "subs = pysrt.open(path_A2)"
   ]
  },
  {
   "cell_type": "code",
   "execution_count": 4,
   "id": "1f5036b9",
   "metadata": {},
   "outputs": [
    {
     "data": {
      "text/plain": [
       "673"
      ]
     },
     "execution_count": 4,
     "metadata": {},
     "output_type": "execute_result"
    }
   ],
   "source": [
    "len(subs)"
   ]
  },
  {
   "cell_type": "code",
   "execution_count": 5,
   "id": "7efc7bb7",
   "metadata": {
    "scrolled": true
   },
   "outputs": [
    {
     "name": "stdout",
     "output_type": "stream",
     "text": [
      "1\n",
      "00:00:03,169 --> 00:00:05,171\n",
      "( bugs chittering )\n",
      "\n",
      "51\n",
      "00:06:24,376 --> 00:06:27,045\n",
      "- And what do you say to that?\n",
      "- I know what I want to say.\n",
      "\n",
      "101\n",
      "00:09:19,207 --> 00:09:22,085 X1:0\n",
      "Dispatcher:\n",
      "Unit 1, unit 3, to eastbound Route 18,\n",
      "\n",
      "151\n",
      "00:12:53,996 --> 00:12:56,332\n",
      "Shh shh. That's it. Do you hear me?\n",
      "Shh shh shh. Okay.\n",
      "\n",
      "201\n",
      "00:20:23,438 --> 00:20:25,440\n",
      "( bugs chittering )\n",
      "\n",
      "251\n",
      "00:28:20,153 --> 00:28:23,030\n",
      "Take a moment,\n",
      "look how sharp it is.\n",
      "\n",
      "301\n",
      "00:31:39,304 --> 00:31:40,388\n",
      "Yeah.\n",
      "\n",
      "351\n",
      "00:34:22,709 --> 00:34:26,086\n",
      "Man: Don't look.\n",
      "Get away from the windows.\n",
      "\n",
      "401\n",
      "00:38:37,536 --> 00:38:39,705\n",
      "That's right.\n",
      "\n",
      "451\n",
      "00:41:46,000 --> 00:41:47,835\n",
      "Conserve your ammo.\n",
      "\n",
      "501\n",
      "00:47:57,069 --> 00:47:59,071\n",
      "( growling )\n",
      "\n",
      "551\n",
      "00:52:00,594 --> 00:52:02,429\n",
      "You're all right.\n",
      "Go on. You're all right.\n",
      "\n",
      "601\n",
      "00:57:15,775 --> 00:57:17,485\n",
      "Good boy.\n",
      "\n",
      "651\n",
      "01:05:33,926 --> 01:05:36,595\n",
      "♪ Of the place I know so well ♪\n",
      "\n"
     ]
    }
   ],
   "source": [
    "for i in range(0, len(subs), 50):\n",
    "    print(subs[i])"
   ]
  },
  {
   "cell_type": "markdown",
   "id": "1f2e17b3",
   "metadata": {},
   "source": [
    "Чтобы проанализировать слова, нужно из этой структуры убрать тайминг, нумерацию кадров (видимо, это строки, потому что их количество равно длине файла с субтитрами), убрать слова в скобках, потому что в задаче запрос на понимание диалогов, а в скобках не диалоги, убрать знаки препинания и цифры, привести к нижнему регистру."
   ]
  },
  {
   "cell_type": "markdown",
   "id": "5e8ca7c3",
   "metadata": {},
   "source": [
    "### Создание единого датасета из предложенных данных"
   ]
  },
  {
   "cell_type": "code",
   "execution_count": 6,
   "id": "1c3467b7",
   "metadata": {},
   "outputs": [],
   "source": [
    "\n",
    "basepath = './English_level/English scores/Subtitles_all/'\n",
    "\n",
    "df_1 = pd.DataFrame(columns = ['Level', 'Movie', 'Srt'])\n",
    "\n",
    "\n",
    "for s in ('A2', 'B1', 'B2', 'C1'):\n",
    "    \n",
    "    path = os.path.join(basepath, s)\n",
    "    \n",
    "    for file in os.listdir(path):\n",
    "        \n",
    "        with open(os.path.join(path, file), 'r', encoding='ISO-8859-1') as infile:\n",
    "            txt = infile.read()\n",
    "            \n",
    "        df_1.loc[len(df_1)] = [s, file[:-4], txt]\n",
    "        \n"
   ]
  },
  {
   "cell_type": "code",
   "execution_count": 7,
   "id": "eb5c5287",
   "metadata": {
    "scrolled": true
   },
   "outputs": [
    {
     "data": {
      "text/html": [
       "<div>\n",
       "<style scoped>\n",
       "    .dataframe tbody tr th:only-of-type {\n",
       "        vertical-align: middle;\n",
       "    }\n",
       "\n",
       "    .dataframe tbody tr th {\n",
       "        vertical-align: top;\n",
       "    }\n",
       "\n",
       "    .dataframe thead th {\n",
       "        text-align: right;\n",
       "    }\n",
       "</style>\n",
       "<table border=\"1\" class=\"dataframe\">\n",
       "  <thead>\n",
       "    <tr style=\"text-align: right;\">\n",
       "      <th></th>\n",
       "      <th>Level</th>\n",
       "      <th>Movie</th>\n",
       "      <th>Srt</th>\n",
       "    </tr>\n",
       "  </thead>\n",
       "  <tbody>\n",
       "    <tr>\n",
       "      <th>0</th>\n",
       "      <td>A2</td>\n",
       "      <td>The Walking Dead-S01E01-Days Gone Bye.English</td>\n",
       "      <td>1\\n00:00:03,169 --&gt; 00:00:05,171\\n( bugs chitt...</td>\n",
       "    </tr>\n",
       "    <tr>\n",
       "      <th>1</th>\n",
       "      <td>A2</td>\n",
       "      <td>The Walking Dead-S01E02-Guts.English</td>\n",
       "      <td>1\\n00:00:03,045 --&gt; 00:00:05,047\\n- ( birds ch...</td>\n",
       "    </tr>\n",
       "    <tr>\n",
       "      <th>2</th>\n",
       "      <td>A2</td>\n",
       "      <td>The Walking Dead-S01E03-Tell It To The Frogs.E...</td>\n",
       "      <td>1\\n00:00:03,003 --&gt; 00:00:04,671\\n( thunder ru...</td>\n",
       "    </tr>\n",
       "    <tr>\n",
       "      <th>3</th>\n",
       "      <td>A2</td>\n",
       "      <td>The Walking Dead-S01E04-Vatos.English</td>\n",
       "      <td>1\\n00:00:03,045 --&gt; 00:00:05,422\\n( birds chir...</td>\n",
       "    </tr>\n",
       "    <tr>\n",
       "      <th>4</th>\n",
       "      <td>A2</td>\n",
       "      <td>The Walking Dead-S01E05-Wildfire.English</td>\n",
       "      <td>1\\n00:00:03,420 --&gt; 00:00:04,922\\n- ( walkie-t...</td>\n",
       "    </tr>\n",
       "    <tr>\n",
       "      <th>...</th>\n",
       "      <td>...</td>\n",
       "      <td>...</td>\n",
       "      <td>...</td>\n",
       "    </tr>\n",
       "    <tr>\n",
       "      <th>158</th>\n",
       "      <td>C1</td>\n",
       "      <td>Suits.S03E06.720p.HDTV.x264-mSD</td>\n",
       "      <td>ï»¿1\\n00:00:01,383 --&gt; 00:00:02,751\\nI lost Av...</td>\n",
       "    </tr>\n",
       "    <tr>\n",
       "      <th>159</th>\n",
       "      <td>C1</td>\n",
       "      <td>Suits.S03E07.HDTV.x264-mSD</td>\n",
       "      <td>ï»¿1\\n00:00:00,052 --&gt; 00:00:01,352\\nPreviousl...</td>\n",
       "    </tr>\n",
       "    <tr>\n",
       "      <th>160</th>\n",
       "      <td>C1</td>\n",
       "      <td>Suits.S03E08.480p.HDTV.x264-mSD</td>\n",
       "      <td>ï»¿1\\n00:00:01,436 --&gt; 00:00:03,028\\nI get Ava...</td>\n",
       "    </tr>\n",
       "    <tr>\n",
       "      <th>161</th>\n",
       "      <td>C1</td>\n",
       "      <td>Suits.S03E09.480p.HDTV.x264-mSD</td>\n",
       "      <td>ï»¿1\\n00:00:00,024 --&gt; 00:00:01,478\\nPreviousl...</td>\n",
       "    </tr>\n",
       "    <tr>\n",
       "      <th>162</th>\n",
       "      <td>C1</td>\n",
       "      <td>Suits.S03E10.HDTV.x264-mSD</td>\n",
       "      <td>ï»¿1\\n00:00:00,015 --&gt; 00:00:01,196\\nPreviousl...</td>\n",
       "    </tr>\n",
       "  </tbody>\n",
       "</table>\n",
       "<p>163 rows × 3 columns</p>\n",
       "</div>"
      ],
      "text/plain": [
       "    Level                                              Movie  \\\n",
       "0      A2      The Walking Dead-S01E01-Days Gone Bye.English   \n",
       "1      A2               The Walking Dead-S01E02-Guts.English   \n",
       "2      A2  The Walking Dead-S01E03-Tell It To The Frogs.E...   \n",
       "3      A2              The Walking Dead-S01E04-Vatos.English   \n",
       "4      A2           The Walking Dead-S01E05-Wildfire.English   \n",
       "..    ...                                                ...   \n",
       "158    C1                    Suits.S03E06.720p.HDTV.x264-mSD   \n",
       "159    C1                         Suits.S03E07.HDTV.x264-mSD   \n",
       "160    C1                    Suits.S03E08.480p.HDTV.x264-mSD   \n",
       "161    C1                    Suits.S03E09.480p.HDTV.x264-mSD   \n",
       "162    C1                         Suits.S03E10.HDTV.x264-mSD   \n",
       "\n",
       "                                                   Srt  \n",
       "0    1\\n00:00:03,169 --> 00:00:05,171\\n( bugs chitt...  \n",
       "1    1\\n00:00:03,045 --> 00:00:05,047\\n- ( birds ch...  \n",
       "2    1\\n00:00:03,003 --> 00:00:04,671\\n( thunder ru...  \n",
       "3    1\\n00:00:03,045 --> 00:00:05,422\\n( birds chir...  \n",
       "4    1\\n00:00:03,420 --> 00:00:04,922\\n- ( walkie-t...  \n",
       "..                                                 ...  \n",
       "158  ï»¿1\\n00:00:01,383 --> 00:00:02,751\\nI lost Av...  \n",
       "159  ï»¿1\\n00:00:00,052 --> 00:00:01,352\\nPreviousl...  \n",
       "160  ï»¿1\\n00:00:01,436 --> 00:00:03,028\\nI get Ava...  \n",
       "161  ï»¿1\\n00:00:00,024 --> 00:00:01,478\\nPreviousl...  \n",
       "162  ï»¿1\\n00:00:00,015 --> 00:00:01,196\\nPreviousl...  \n",
       "\n",
       "[163 rows x 3 columns]"
      ]
     },
     "metadata": {},
     "output_type": "display_data"
    }
   ],
   "source": [
    "display(df_1)"
   ]
  },
  {
   "cell_type": "markdown",
   "id": "5a8ac99f",
   "metadata": {},
   "source": [
    "В первой таблице, собранной из данных папки заказчика с распределением субтитров по уровню языка,  у нас есть полный набор данных - название фильма, его рейтинг, текст субтитров."
   ]
  },
  {
   "cell_type": "code",
   "execution_count": 8,
   "id": "43635687",
   "metadata": {},
   "outputs": [],
   "source": [
    "\n",
    "df_2 = pd.DataFrame(columns = ['Movie', 'Srt'])\n",
    "path = os.path.join(basepath, 'Subtitles')\n",
    "for file in os.listdir(path):\n",
    "    if file!='.DS_Store':\n",
    "        \n",
    "        with open(os.path.join(path, file), 'r', encoding='ISO-8859-1') as infile:\n",
    "            txt = infile.read()\n",
    "        df_2.loc[len(df_2)] = [file[:-4], txt]\n",
    "        \n"
   ]
  },
  {
   "cell_type": "code",
   "execution_count": 9,
   "id": "374a7c10",
   "metadata": {
    "scrolled": true
   },
   "outputs": [
    {
     "data": {
      "text/html": [
       "<div>\n",
       "<style scoped>\n",
       "    .dataframe tbody tr th:only-of-type {\n",
       "        vertical-align: middle;\n",
       "    }\n",
       "\n",
       "    .dataframe tbody tr th {\n",
       "        vertical-align: top;\n",
       "    }\n",
       "\n",
       "    .dataframe thead th {\n",
       "        text-align: right;\n",
       "    }\n",
       "</style>\n",
       "<table border=\"1\" class=\"dataframe\">\n",
       "  <thead>\n",
       "    <tr style=\"text-align: right;\">\n",
       "      <th></th>\n",
       "      <th>Movie</th>\n",
       "      <th>Srt</th>\n",
       "    </tr>\n",
       "  </thead>\n",
       "  <tbody>\n",
       "    <tr>\n",
       "      <th>0</th>\n",
       "      <td>10_Cloverfield_lane(2016)</td>\n",
       "      <td>1\\n00:00:55,279 --&gt; 00:01:07,279\\n&lt;font color=...</td>\n",
       "    </tr>\n",
       "    <tr>\n",
       "      <th>1</th>\n",
       "      <td>10_things_I_hate_about_you(1999)</td>\n",
       "      <td>1\\n00:01:54,281 --&gt; 00:01:55,698\\nHey!\\n\\n2\\n0...</td>\n",
       "    </tr>\n",
       "    <tr>\n",
       "      <th>2</th>\n",
       "      <td>Aladdin(1992)</td>\n",
       "      <td>1\\n00:00:27,240 --&gt; 00:00:30,879\\n&lt;i&gt;Oh, I com...</td>\n",
       "    </tr>\n",
       "    <tr>\n",
       "      <th>3</th>\n",
       "      <td>All_dogs_go_to_heaven(1989)</td>\n",
       "      <td>1\\n00:00:12,319 --&gt; 00:00:14,821\\nCAPTIONING M...</td>\n",
       "    </tr>\n",
       "    <tr>\n",
       "      <th>4</th>\n",
       "      <td>An_American_tail(1986)</td>\n",
       "      <td>ï»¿1\\n00:02:24,080 --&gt; 00:02:26,528\\n(INDISTIN...</td>\n",
       "    </tr>\n",
       "    <tr>\n",
       "      <th>...</th>\n",
       "      <td>...</td>\n",
       "      <td>...</td>\n",
       "    </tr>\n",
       "    <tr>\n",
       "      <th>110</th>\n",
       "      <td>Warm_bodies(2013)</td>\n",
       "      <td>2\\n00:00:26,559 --&gt; 00:00:28,627\\n&lt;i&gt;What am I...</td>\n",
       "    </tr>\n",
       "    <tr>\n",
       "      <th>111</th>\n",
       "      <td>Westworld_scenes_of_Dr_Robert_Ford</td>\n",
       "      <td>1\\n00:00:00,000 --&gt; 00:00:21,179\\n[Music]\\n\\n2...</td>\n",
       "    </tr>\n",
       "    <tr>\n",
       "      <th>112</th>\n",
       "      <td>We_are_the_Millers(2013)</td>\n",
       "      <td>1\\n00:00:02,400 --&gt; 00:00:03,731\\n&lt;i&gt;Oh, my Go...</td>\n",
       "    </tr>\n",
       "    <tr>\n",
       "      <th>113</th>\n",
       "      <td>While_You_Were_Sleeping(1995)</td>\n",
       "      <td>1\\n00:02:20,760 --&gt; 00:02:24,720\\nLUCY: &lt;i&gt;Oka...</td>\n",
       "    </tr>\n",
       "    <tr>\n",
       "      <th>114</th>\n",
       "      <td>Zootopia(2016)</td>\n",
       "      <td>ï»¿1\\n00:01:00,840 --&gt; 00:01:06,370\\nFear. Tre...</td>\n",
       "    </tr>\n",
       "  </tbody>\n",
       "</table>\n",
       "<p>115 rows × 2 columns</p>\n",
       "</div>"
      ],
      "text/plain": [
       "                                  Movie  \\\n",
       "0             10_Cloverfield_lane(2016)   \n",
       "1      10_things_I_hate_about_you(1999)   \n",
       "2                         Aladdin(1992)   \n",
       "3           All_dogs_go_to_heaven(1989)   \n",
       "4                An_American_tail(1986)   \n",
       "..                                  ...   \n",
       "110                   Warm_bodies(2013)   \n",
       "111  Westworld_scenes_of_Dr_Robert_Ford   \n",
       "112            We_are_the_Millers(2013)   \n",
       "113       While_You_Were_Sleeping(1995)   \n",
       "114                      Zootopia(2016)   \n",
       "\n",
       "                                                   Srt  \n",
       "0    1\\n00:00:55,279 --> 00:01:07,279\\n<font color=...  \n",
       "1    1\\n00:01:54,281 --> 00:01:55,698\\nHey!\\n\\n2\\n0...  \n",
       "2    1\\n00:00:27,240 --> 00:00:30,879\\n<i>Oh, I com...  \n",
       "3    1\\n00:00:12,319 --> 00:00:14,821\\nCAPTIONING M...  \n",
       "4    ï»¿1\\n00:02:24,080 --> 00:02:26,528\\n(INDISTIN...  \n",
       "..                                                 ...  \n",
       "110  2\\n00:00:26,559 --> 00:00:28,627\\n<i>What am I...  \n",
       "111  1\\n00:00:00,000 --> 00:00:21,179\\n[Music]\\n\\n2...  \n",
       "112  1\\n00:00:02,400 --> 00:00:03,731\\n<i>Oh, my Go...  \n",
       "113  1\\n00:02:20,760 --> 00:02:24,720\\nLUCY: <i>Oka...  \n",
       "114  ï»¿1\\n00:01:00,840 --> 00:01:06,370\\nFear. Tre...  \n",
       "\n",
       "[115 rows x 2 columns]"
      ]
     },
     "metadata": {},
     "output_type": "display_data"
    }
   ],
   "source": [
    "display(df_2)"
   ]
  },
  {
   "cell_type": "markdown",
   "id": "9da77310",
   "metadata": {},
   "source": [
    "Во второй таблице, тоже собранной из данных файлов в папке заказчика, но другой, не размеченной по уровню языка, есть названия фильмов и текст субтитров."
   ]
  },
  {
   "cell_type": "code",
   "execution_count": 10,
   "id": "079ea6d5",
   "metadata": {},
   "outputs": [],
   "source": [
    "df_3 = pd.read_excel('./English_level/English scores/movies_labels.xlsx')"
   ]
  },
  {
   "cell_type": "code",
   "execution_count": 11,
   "id": "29b2286a",
   "metadata": {},
   "outputs": [
    {
     "data": {
      "text/html": [
       "<div>\n",
       "<style scoped>\n",
       "    .dataframe tbody tr th:only-of-type {\n",
       "        vertical-align: middle;\n",
       "    }\n",
       "\n",
       "    .dataframe tbody tr th {\n",
       "        vertical-align: top;\n",
       "    }\n",
       "\n",
       "    .dataframe thead th {\n",
       "        text-align: right;\n",
       "    }\n",
       "</style>\n",
       "<table border=\"1\" class=\"dataframe\">\n",
       "  <thead>\n",
       "    <tr style=\"text-align: right;\">\n",
       "      <th></th>\n",
       "      <th>id</th>\n",
       "      <th>Movie</th>\n",
       "      <th>Level</th>\n",
       "    </tr>\n",
       "  </thead>\n",
       "  <tbody>\n",
       "    <tr>\n",
       "      <th>0</th>\n",
       "      <td>0</td>\n",
       "      <td>10_Cloverfield_lane(2016)</td>\n",
       "      <td>B1</td>\n",
       "    </tr>\n",
       "    <tr>\n",
       "      <th>1</th>\n",
       "      <td>1</td>\n",
       "      <td>10_things_I_hate_about_you(1999)</td>\n",
       "      <td>B1</td>\n",
       "    </tr>\n",
       "    <tr>\n",
       "      <th>2</th>\n",
       "      <td>2</td>\n",
       "      <td>A_knights_tale(2001)</td>\n",
       "      <td>B2</td>\n",
       "    </tr>\n",
       "    <tr>\n",
       "      <th>3</th>\n",
       "      <td>3</td>\n",
       "      <td>A_star_is_born(2018)</td>\n",
       "      <td>B2</td>\n",
       "    </tr>\n",
       "    <tr>\n",
       "      <th>4</th>\n",
       "      <td>4</td>\n",
       "      <td>Aladdin(1992)</td>\n",
       "      <td>A2/A2+</td>\n",
       "    </tr>\n",
       "    <tr>\n",
       "      <th>...</th>\n",
       "      <td>...</td>\n",
       "      <td>...</td>\n",
       "      <td>...</td>\n",
       "    </tr>\n",
       "    <tr>\n",
       "      <th>236</th>\n",
       "      <td>236</td>\n",
       "      <td>Matilda(2022)</td>\n",
       "      <td>C1</td>\n",
       "    </tr>\n",
       "    <tr>\n",
       "      <th>237</th>\n",
       "      <td>237</td>\n",
       "      <td>Bullet train</td>\n",
       "      <td>B1</td>\n",
       "    </tr>\n",
       "    <tr>\n",
       "      <th>238</th>\n",
       "      <td>238</td>\n",
       "      <td>Thor: love and thunder</td>\n",
       "      <td>B2</td>\n",
       "    </tr>\n",
       "    <tr>\n",
       "      <th>239</th>\n",
       "      <td>239</td>\n",
       "      <td>Lightyear</td>\n",
       "      <td>B2</td>\n",
       "    </tr>\n",
       "    <tr>\n",
       "      <th>240</th>\n",
       "      <td>240</td>\n",
       "      <td>The Grinch</td>\n",
       "      <td>B1</td>\n",
       "    </tr>\n",
       "  </tbody>\n",
       "</table>\n",
       "<p>241 rows × 3 columns</p>\n",
       "</div>"
      ],
      "text/plain": [
       "      id                             Movie   Level\n",
       "0      0         10_Cloverfield_lane(2016)      B1\n",
       "1      1  10_things_I_hate_about_you(1999)      B1\n",
       "2      2              A_knights_tale(2001)      B2\n",
       "3      3              A_star_is_born(2018)      B2\n",
       "4      4                     Aladdin(1992)  A2/A2+\n",
       "..   ...                               ...     ...\n",
       "236  236                     Matilda(2022)      C1\n",
       "237  237                      Bullet train      B1\n",
       "238  238            Thor: love and thunder      B2\n",
       "239  239                         Lightyear      B2\n",
       "240  240                        The Grinch      B1\n",
       "\n",
       "[241 rows x 3 columns]"
      ]
     },
     "metadata": {},
     "output_type": "display_data"
    }
   ],
   "source": [
    "display(df_3)"
   ]
  },
  {
   "cell_type": "code",
   "execution_count": 12,
   "id": "a891786f",
   "metadata": {},
   "outputs": [
    {
     "data": {
      "text/html": [
       "<div>\n",
       "<style scoped>\n",
       "    .dataframe tbody tr th:only-of-type {\n",
       "        vertical-align: middle;\n",
       "    }\n",
       "\n",
       "    .dataframe tbody tr th {\n",
       "        vertical-align: top;\n",
       "    }\n",
       "\n",
       "    .dataframe thead th {\n",
       "        text-align: right;\n",
       "    }\n",
       "</style>\n",
       "<table border=\"1\" class=\"dataframe\">\n",
       "  <thead>\n",
       "    <tr style=\"text-align: right;\">\n",
       "      <th></th>\n",
       "      <th>Movie</th>\n",
       "      <th>Level</th>\n",
       "    </tr>\n",
       "  </thead>\n",
       "  <tbody>\n",
       "    <tr>\n",
       "      <th>0</th>\n",
       "      <td>10_Cloverfield_lane(2016)</td>\n",
       "      <td>B1</td>\n",
       "    </tr>\n",
       "    <tr>\n",
       "      <th>1</th>\n",
       "      <td>10_things_I_hate_about_you(1999)</td>\n",
       "      <td>B1</td>\n",
       "    </tr>\n",
       "    <tr>\n",
       "      <th>2</th>\n",
       "      <td>A_knights_tale(2001)</td>\n",
       "      <td>B2</td>\n",
       "    </tr>\n",
       "    <tr>\n",
       "      <th>3</th>\n",
       "      <td>A_star_is_born(2018)</td>\n",
       "      <td>B2</td>\n",
       "    </tr>\n",
       "    <tr>\n",
       "      <th>4</th>\n",
       "      <td>Aladdin(1992)</td>\n",
       "      <td>A2/A2+</td>\n",
       "    </tr>\n",
       "    <tr>\n",
       "      <th>...</th>\n",
       "      <td>...</td>\n",
       "      <td>...</td>\n",
       "    </tr>\n",
       "    <tr>\n",
       "      <th>236</th>\n",
       "      <td>Matilda(2022)</td>\n",
       "      <td>C1</td>\n",
       "    </tr>\n",
       "    <tr>\n",
       "      <th>237</th>\n",
       "      <td>Bullet train</td>\n",
       "      <td>B1</td>\n",
       "    </tr>\n",
       "    <tr>\n",
       "      <th>238</th>\n",
       "      <td>Thor: love and thunder</td>\n",
       "      <td>B2</td>\n",
       "    </tr>\n",
       "    <tr>\n",
       "      <th>239</th>\n",
       "      <td>Lightyear</td>\n",
       "      <td>B2</td>\n",
       "    </tr>\n",
       "    <tr>\n",
       "      <th>240</th>\n",
       "      <td>The Grinch</td>\n",
       "      <td>B1</td>\n",
       "    </tr>\n",
       "  </tbody>\n",
       "</table>\n",
       "<p>241 rows × 2 columns</p>\n",
       "</div>"
      ],
      "text/plain": [
       "                                Movie   Level\n",
       "0           10_Cloverfield_lane(2016)      B1\n",
       "1    10_things_I_hate_about_you(1999)      B1\n",
       "2                A_knights_tale(2001)      B2\n",
       "3                A_star_is_born(2018)      B2\n",
       "4                       Aladdin(1992)  A2/A2+\n",
       "..                                ...     ...\n",
       "236                     Matilda(2022)      C1\n",
       "237                      Bullet train      B1\n",
       "238            Thor: love and thunder      B2\n",
       "239                         Lightyear      B2\n",
       "240                        The Grinch      B1\n",
       "\n",
       "[241 rows x 2 columns]"
      ]
     },
     "execution_count": 12,
     "metadata": {},
     "output_type": "execute_result"
    }
   ],
   "source": [
    "df_3.drop(columns='id', axis=1)"
   ]
  },
  {
   "cell_type": "markdown",
   "id": "cfa31f70",
   "metadata": {},
   "source": [
    "В третьей таблице, предоставленной самим заказчиком, есть названия фильмов и уровень языка.\n",
    "\n",
    "Теперь нам предстоит объединить эти данные в одну таблицу.\n",
    "\n",
    "Столбцом для объединения точно будет название фильма. Объединение df_3 с df_2 не составит труда."
   ]
  },
  {
   "cell_type": "code",
   "execution_count": 13,
   "id": "b035cb65",
   "metadata": {},
   "outputs": [],
   "source": [
    "df_2_3 = df_3.merge(df_2, on='Movie', how='outer').drop(columns='id')"
   ]
  },
  {
   "cell_type": "code",
   "execution_count": 14,
   "id": "004bbeff",
   "metadata": {},
   "outputs": [
    {
     "data": {
      "text/plain": [
       "250"
      ]
     },
     "execution_count": 14,
     "metadata": {},
     "output_type": "execute_result"
    }
   ],
   "source": [
    "len(df_2_3)"
   ]
  },
  {
   "cell_type": "code",
   "execution_count": 15,
   "id": "bd40a7ff",
   "metadata": {},
   "outputs": [
    {
     "data": {
      "text/plain": [
       "115"
      ]
     },
     "execution_count": 15,
     "metadata": {},
     "output_type": "execute_result"
    }
   ],
   "source": [
    "len(df_2)"
   ]
  },
  {
   "cell_type": "code",
   "execution_count": 16,
   "id": "cb3233b3",
   "metadata": {},
   "outputs": [
    {
     "data": {
      "text/plain": [
       "241"
      ]
     },
     "execution_count": 16,
     "metadata": {},
     "output_type": "execute_result"
    }
   ],
   "source": [
    "len(df_3)"
   ]
  },
  {
   "cell_type": "code",
   "execution_count": 17,
   "id": "bada08f1",
   "metadata": {},
   "outputs": [
    {
     "data": {
      "text/plain": [
       "Movie      0\n",
       "Level      9\n",
       "Srt      131\n",
       "dtype: int64"
      ]
     },
     "execution_count": 17,
     "metadata": {},
     "output_type": "execute_result"
    }
   ],
   "source": [
    "df_2_3.isna().sum()"
   ]
  },
  {
   "cell_type": "code",
   "execution_count": 18,
   "id": "f30d0b59",
   "metadata": {},
   "outputs": [
    {
     "data": {
      "text/html": [
       "<div>\n",
       "<style scoped>\n",
       "    .dataframe tbody tr th:only-of-type {\n",
       "        vertical-align: middle;\n",
       "    }\n",
       "\n",
       "    .dataframe tbody tr th {\n",
       "        vertical-align: top;\n",
       "    }\n",
       "\n",
       "    .dataframe thead th {\n",
       "        text-align: right;\n",
       "    }\n",
       "</style>\n",
       "<table border=\"1\" class=\"dataframe\">\n",
       "  <thead>\n",
       "    <tr style=\"text-align: right;\">\n",
       "      <th></th>\n",
       "      <th>Movie</th>\n",
       "      <th>Level</th>\n",
       "      <th>Srt</th>\n",
       "    </tr>\n",
       "  </thead>\n",
       "  <tbody>\n",
       "    <tr>\n",
       "      <th>124</th>\n",
       "      <td>Seven.Worlds.One.Planet.S01E01.2160p.BluRay.Re...</td>\n",
       "      <td>B1</td>\n",
       "      <td>NaN</td>\n",
       "    </tr>\n",
       "    <tr>\n",
       "      <th>102</th>\n",
       "      <td>The_usual_suspects(1995)</td>\n",
       "      <td>B2</td>\n",
       "      <td>1\\n00:03:34,463 --&gt; 00:03:36,328\\nHow you doin...</td>\n",
       "    </tr>\n",
       "    <tr>\n",
       "      <th>152</th>\n",
       "      <td>Ghosts.of.Girlfriends.Past.2009.BluRay.720p.x2...</td>\n",
       "      <td>B2</td>\n",
       "      <td>NaN</td>\n",
       "    </tr>\n",
       "    <tr>\n",
       "      <th>244</th>\n",
       "      <td>Gogo_Loves_English</td>\n",
       "      <td>NaN</td>\n",
       "      <td>1\\n00:00:01,130 --&gt; 00:00:18,359\\n[Music]\\n\\n2...</td>\n",
       "    </tr>\n",
       "    <tr>\n",
       "      <th>197</th>\n",
       "      <td>Suits.S02E14.HDTV.x264-ASAP</td>\n",
       "      <td>B2</td>\n",
       "      <td>NaN</td>\n",
       "    </tr>\n",
       "    <tr>\n",
       "      <th>137</th>\n",
       "      <td>Crazy4TV.com - Suits.S06E02.720p.BluRay.x265.H...</td>\n",
       "      <td>B2</td>\n",
       "      <td>NaN</td>\n",
       "    </tr>\n",
       "    <tr>\n",
       "      <th>229</th>\n",
       "      <td>Suits.S03E05.480p.HDTV.x264-mSD</td>\n",
       "      <td>C1</td>\n",
       "      <td>NaN</td>\n",
       "    </tr>\n",
       "    <tr>\n",
       "      <th>232</th>\n",
       "      <td>Suits.S03E08.480p.HDTV.x264-mSD</td>\n",
       "      <td>C1</td>\n",
       "      <td>NaN</td>\n",
       "    </tr>\n",
       "    <tr>\n",
       "      <th>141</th>\n",
       "      <td>Crazy4TV.com - Suits.S06E06.720p.BluRay.x265.H...</td>\n",
       "      <td>B2</td>\n",
       "      <td>NaN</td>\n",
       "    </tr>\n",
       "    <tr>\n",
       "      <th>185</th>\n",
       "      <td>Suits.S02E02.HDTV.x264-ASAP</td>\n",
       "      <td>B2</td>\n",
       "      <td>NaN</td>\n",
       "    </tr>\n",
       "  </tbody>\n",
       "</table>\n",
       "</div>"
      ],
      "text/plain": [
       "                                                 Movie Level  \\\n",
       "124  Seven.Worlds.One.Planet.S01E01.2160p.BluRay.Re...    B1   \n",
       "102                           The_usual_suspects(1995)    B2   \n",
       "152  Ghosts.of.Girlfriends.Past.2009.BluRay.720p.x2...    B2   \n",
       "244                                 Gogo_Loves_English   NaN   \n",
       "197                        Suits.S02E14.HDTV.x264-ASAP    B2   \n",
       "137  Crazy4TV.com - Suits.S06E02.720p.BluRay.x265.H...    B2   \n",
       "229                    Suits.S03E05.480p.HDTV.x264-mSD    C1   \n",
       "232                    Suits.S03E08.480p.HDTV.x264-mSD    C1   \n",
       "141  Crazy4TV.com - Suits.S06E06.720p.BluRay.x265.H...    B2   \n",
       "185                        Suits.S02E02.HDTV.x264-ASAP    B2   \n",
       "\n",
       "                                                   Srt  \n",
       "124                                                NaN  \n",
       "102  1\\n00:03:34,463 --> 00:03:36,328\\nHow you doin...  \n",
       "152                                                NaN  \n",
       "244  1\\n00:00:01,130 --> 00:00:18,359\\n[Music]\\n\\n2...  \n",
       "197                                                NaN  \n",
       "137                                                NaN  \n",
       "229                                                NaN  \n",
       "232                                                NaN  \n",
       "141                                                NaN  \n",
       "185                                                NaN  "
      ]
     },
     "execution_count": 18,
     "metadata": {},
     "output_type": "execute_result"
    }
   ],
   "source": [
    "df_2_3.sample(10)"
   ]
  },
  {
   "cell_type": "code",
   "execution_count": 19,
   "id": "7e1b6d55",
   "metadata": {},
   "outputs": [],
   "source": [
    "df_all = df_2_3.merge(df_1, on='Movie', how='outer')"
   ]
  },
  {
   "cell_type": "code",
   "execution_count": 20,
   "id": "6e7c4495",
   "metadata": {},
   "outputs": [
    {
     "data": {
      "text/html": [
       "<div>\n",
       "<style scoped>\n",
       "    .dataframe tbody tr th:only-of-type {\n",
       "        vertical-align: middle;\n",
       "    }\n",
       "\n",
       "    .dataframe tbody tr th {\n",
       "        vertical-align: top;\n",
       "    }\n",
       "\n",
       "    .dataframe thead th {\n",
       "        text-align: right;\n",
       "    }\n",
       "</style>\n",
       "<table border=\"1\" class=\"dataframe\">\n",
       "  <thead>\n",
       "    <tr style=\"text-align: right;\">\n",
       "      <th></th>\n",
       "      <th>Movie</th>\n",
       "      <th>Level_x</th>\n",
       "      <th>Srt_x</th>\n",
       "      <th>Level_y</th>\n",
       "      <th>Srt_y</th>\n",
       "    </tr>\n",
       "  </thead>\n",
       "  <tbody>\n",
       "    <tr>\n",
       "      <th>131</th>\n",
       "      <td>Spirit.Stallion.of.the.Cimarron.EN</td>\n",
       "      <td>B1</td>\n",
       "      <td>NaN</td>\n",
       "      <td>B1</td>\n",
       "      <td>1\\n00:00:36,883 --&gt; 00:00:46,554\\n''Spirit Sta...</td>\n",
       "    </tr>\n",
       "    <tr>\n",
       "      <th>150</th>\n",
       "      <td>Crazy4TV.com - Suits.S06E15.720p.BluRay.x265.H...</td>\n",
       "      <td>B2</td>\n",
       "      <td>NaN</td>\n",
       "      <td>B2</td>\n",
       "      <td>1\\n00:00:02,252 --&gt; 00:00:04,346\\n&lt;font color=...</td>\n",
       "    </tr>\n",
       "    <tr>\n",
       "      <th>246</th>\n",
       "      <td>Pride_and_Prejudice</td>\n",
       "      <td>NaN</td>\n",
       "      <td>1\\n00:00:20,020 --&gt; 00:00:42,009\\n[Music]\\n\\n2...</td>\n",
       "      <td>NaN</td>\n",
       "      <td>NaN</td>\n",
       "    </tr>\n",
       "    <tr>\n",
       "      <th>175</th>\n",
       "      <td>Suits.S01E04.1080p.BluRay.AAC5.1.x265-DTG.02.EN</td>\n",
       "      <td>B2</td>\n",
       "      <td>NaN</td>\n",
       "      <td>B2</td>\n",
       "      <td>ï»¿1\\n00:00:04,754 --&gt; 00:00:07,339\\nHarvard T...</td>\n",
       "    </tr>\n",
       "  </tbody>\n",
       "</table>\n",
       "</div>"
      ],
      "text/plain": [
       "                                                 Movie Level_x  \\\n",
       "131                 Spirit.Stallion.of.the.Cimarron.EN      B1   \n",
       "150  Crazy4TV.com - Suits.S06E15.720p.BluRay.x265.H...      B2   \n",
       "246                                Pride_and_Prejudice     NaN   \n",
       "175    Suits.S01E04.1080p.BluRay.AAC5.1.x265-DTG.02.EN      B2   \n",
       "\n",
       "                                                 Srt_x Level_y  \\\n",
       "131                                                NaN      B1   \n",
       "150                                                NaN      B2   \n",
       "246  1\\n00:00:20,020 --> 00:00:42,009\\n[Music]\\n\\n2...     NaN   \n",
       "175                                                NaN      B2   \n",
       "\n",
       "                                                 Srt_y  \n",
       "131  1\\n00:00:36,883 --> 00:00:46,554\\n''Spirit Sta...  \n",
       "150  1\\n00:00:02,252 --> 00:00:04,346\\n<font color=...  \n",
       "246                                                NaN  \n",
       "175  ï»¿1\\n00:00:04,754 --> 00:00:07,339\\nHarvard T...  "
      ]
     },
     "execution_count": 20,
     "metadata": {},
     "output_type": "execute_result"
    }
   ],
   "source": [
    "df_all.sample(4)"
   ]
  },
  {
   "cell_type": "code",
   "execution_count": 21,
   "id": "c6c3f107",
   "metadata": {},
   "outputs": [
    {
     "data": {
      "text/plain": [
       "Movie        0\n",
       "Level_x     49\n",
       "Srt_x      171\n",
       "Level_y    127\n",
       "Srt_y      127\n",
       "dtype: int64"
      ]
     },
     "execution_count": 21,
     "metadata": {},
     "output_type": "execute_result"
    }
   ],
   "source": [
    "df_all.isna().sum()"
   ]
  },
  {
   "cell_type": "code",
   "execution_count": 22,
   "id": "60bb576b",
   "metadata": {},
   "outputs": [
    {
     "name": "stdout",
     "output_type": "stream",
     "text": [
      "<class 'pandas.core.frame.DataFrame'>\n",
      "RangeIndex: 290 entries, 0 to 289\n",
      "Data columns (total 5 columns):\n",
      " #   Column   Non-Null Count  Dtype \n",
      "---  ------   --------------  ----- \n",
      " 0   Movie    290 non-null    object\n",
      " 1   Level_x  241 non-null    object\n",
      " 2   Srt_x    119 non-null    object\n",
      " 3   Level_y  163 non-null    object\n",
      " 4   Srt_y    163 non-null    object\n",
      "dtypes: object(5)\n",
      "memory usage: 11.5+ KB\n"
     ]
    }
   ],
   "source": [
    "df_all.info()"
   ]
  },
  {
   "cell_type": "code",
   "execution_count": 23,
   "id": "38200946",
   "metadata": {},
   "outputs": [
    {
     "data": {
      "text/plain": [
       "array(['B1', 'B2', 'A2/A2+', 'C1', 'B1, B2', 'A2/A2+, B1', 'A2', nan],\n",
       "      dtype=object)"
      ]
     },
     "execution_count": 23,
     "metadata": {},
     "output_type": "execute_result"
    }
   ],
   "source": [
    "df_all['Level_x'].unique()"
   ]
  },
  {
   "cell_type": "code",
   "execution_count": 24,
   "id": "060bef88",
   "metadata": {},
   "outputs": [
    {
     "data": {
      "text/plain": [
       "array([nan, 'A2', 'B1', 'B2', 'C1'], dtype=object)"
      ]
     },
     "execution_count": 24,
     "metadata": {},
     "output_type": "execute_result"
    }
   ],
   "source": [
    "df_all['Level_y'].unique()"
   ]
  },
  {
   "cell_type": "markdown",
   "id": "2f70f04a",
   "metadata": {},
   "source": [
    "Иногда указывают несколько уровней языка для одного фильма (А2, В1). Пока я оставлю самый высокий, это проще. Можно отложить эти сомнительные фильмы и потом определить обученной моделью их уровень. Уровень А2/А2+ заменяем на А2, потому что у нас не стоит задачи в градации подуровней внутри уровня."
   ]
  },
  {
   "cell_type": "code",
   "execution_count": 25,
   "id": "386b07f6",
   "metadata": {},
   "outputs": [],
   "source": [
    "df_all['Level_x'] = df_all['Level_x'].replace('A2/A2+', 'A2')\n",
    "df_all['Level_x'] = df_all['Level_x'].replace('A2/A2+, B1', 'B1')"
   ]
  },
  {
   "cell_type": "code",
   "execution_count": 26,
   "id": "8f871802",
   "metadata": {},
   "outputs": [],
   "source": [
    "df_all['Level_x'] = df_all['Level_x'].replace('B1, B2', 'B2')"
   ]
  },
  {
   "cell_type": "code",
   "execution_count": 27,
   "id": "40706079",
   "metadata": {},
   "outputs": [
    {
     "data": {
      "text/plain": [
       "array(['B1', 'B2', 'A2', 'C1', nan], dtype=object)"
      ]
     },
     "execution_count": 27,
     "metadata": {},
     "output_type": "execute_result"
    }
   ],
   "source": [
    "df_all['Level_x'].unique()"
   ]
  },
  {
   "cell_type": "code",
   "execution_count": 28,
   "id": "5a342e99",
   "metadata": {},
   "outputs": [
    {
     "name": "stdout",
     "output_type": "stream",
     "text": [
      "Строк с разными значениями в столбцах Label_x и Label_y: 0\n"
     ]
    }
   ],
   "source": [
    "print('Строк с разными значениями в столбцах Label_x и Label_y:',\\\n",
    "    len(df_all.loc[(df_all['Level_x'].notna())&(df_all['Level_y'].notna()) & (df_all['Level_x']!=df_all['Level_y'])]))"
   ]
  },
  {
   "cell_type": "markdown",
   "id": "66d0c33e",
   "metadata": {},
   "source": [
    "Значит, просто заполним пропуски переносом значений из одного стобца в другой."
   ]
  },
  {
   "cell_type": "code",
   "execution_count": 29,
   "id": "278d43a7",
   "metadata": {},
   "outputs": [],
   "source": [
    "df_all['Level']=df_all['Level_x'].fillna(df_all['Level_y'])"
   ]
  },
  {
   "cell_type": "code",
   "execution_count": 30,
   "id": "11f683e8",
   "metadata": {
    "scrolled": true
   },
   "outputs": [
    {
     "data": {
      "text/plain": [
       "array(['B1', 'B2', 'A2', 'C1', nan], dtype=object)"
      ]
     },
     "execution_count": 30,
     "metadata": {},
     "output_type": "execute_result"
    }
   ],
   "source": [
    "df_all['Level'].unique()"
   ]
  },
  {
   "cell_type": "code",
   "execution_count": 31,
   "id": "206eb7c6",
   "metadata": {},
   "outputs": [
    {
     "name": "stdout",
     "output_type": "stream",
     "text": [
      "<class 'pandas.core.frame.DataFrame'>\n",
      "RangeIndex: 290 entries, 0 to 289\n",
      "Data columns (total 6 columns):\n",
      " #   Column   Non-Null Count  Dtype \n",
      "---  ------   --------------  ----- \n",
      " 0   Movie    290 non-null    object\n",
      " 1   Level_x  241 non-null    object\n",
      " 2   Srt_x    119 non-null    object\n",
      " 3   Level_y  163 non-null    object\n",
      " 4   Srt_y    163 non-null    object\n",
      " 5   Level    281 non-null    object\n",
      "dtypes: object(6)\n",
      "memory usage: 13.7+ KB\n"
     ]
    }
   ],
   "source": [
    "df_all.info()"
   ]
  },
  {
   "cell_type": "markdown",
   "id": "a47150a1",
   "metadata": {},
   "source": [
    "Также проверим, есть ли несовпадения по субтитрам."
   ]
  },
  {
   "cell_type": "code",
   "execution_count": 32,
   "id": "fd6f1d42",
   "metadata": {
    "scrolled": true
   },
   "outputs": [
    {
     "name": "stdout",
     "output_type": "stream",
     "text": [
      "Строк с разными значениями в столбцах Srt_x и Srt_y: 0\n"
     ]
    }
   ],
   "source": [
    "print('Строк с разными значениями в столбцах Srt_x и Srt_y:',\\\n",
    "    len(df_all.loc[(df_all['Srt_x'].notna())&(df_all['Srt_y'].notna()) & (df_all['Srt_x']!=df_all['Srt_y'])]))"
   ]
  },
  {
   "cell_type": "code",
   "execution_count": 33,
   "id": "0c12bbb7",
   "metadata": {},
   "outputs": [],
   "source": [
    "df_all['Srt']=df_all['Srt_x'].fillna(df_all['Srt_y'])"
   ]
  },
  {
   "cell_type": "code",
   "execution_count": 34,
   "id": "1b736595",
   "metadata": {
    "scrolled": true
   },
   "outputs": [
    {
     "name": "stdout",
     "output_type": "stream",
     "text": [
      "<class 'pandas.core.frame.DataFrame'>\n",
      "RangeIndex: 290 entries, 0 to 289\n",
      "Data columns (total 7 columns):\n",
      " #   Column   Non-Null Count  Dtype \n",
      "---  ------   --------------  ----- \n",
      " 0   Movie    290 non-null    object\n",
      " 1   Level_x  241 non-null    object\n",
      " 2   Srt_x    119 non-null    object\n",
      " 3   Level_y  163 non-null    object\n",
      " 4   Srt_y    163 non-null    object\n",
      " 5   Level    281 non-null    object\n",
      " 6   Srt      282 non-null    object\n",
      "dtypes: object(7)\n",
      "memory usage: 16.0+ KB\n"
     ]
    }
   ],
   "source": [
    "df_all.info()"
   ]
  },
  {
   "cell_type": "code",
   "execution_count": 35,
   "id": "7a1c6250",
   "metadata": {},
   "outputs": [
    {
     "data": {
      "text/plain": [
       "Index(['Movie', 'Level_x', 'Srt_x', 'Level_y', 'Srt_y', 'Level', 'Srt'], dtype='object')"
      ]
     },
     "execution_count": 35,
     "metadata": {},
     "output_type": "execute_result"
    }
   ],
   "source": [
    "df_all.columns"
   ]
  },
  {
   "cell_type": "code",
   "execution_count": 36,
   "id": "cc8c3b65",
   "metadata": {},
   "outputs": [],
   "source": [
    "df = df_all.copy().drop(columns=['Level_x', 'Srt_x', 'Level_y', 'Srt_y'])"
   ]
  },
  {
   "cell_type": "code",
   "execution_count": 37,
   "id": "dca17871",
   "metadata": {
    "scrolled": true
   },
   "outputs": [
    {
     "name": "stdout",
     "output_type": "stream",
     "text": [
      "<class 'pandas.core.frame.DataFrame'>\n",
      "RangeIndex: 290 entries, 0 to 289\n",
      "Data columns (total 3 columns):\n",
      " #   Column  Non-Null Count  Dtype \n",
      "---  ------  --------------  ----- \n",
      " 0   Movie   290 non-null    object\n",
      " 1   Level   281 non-null    object\n",
      " 2   Srt     282 non-null    object\n",
      "dtypes: object(3)\n",
      "memory usage: 6.9+ KB\n"
     ]
    }
   ],
   "source": [
    "df.info()"
   ]
  },
  {
   "cell_type": "markdown",
   "id": "52e1571a",
   "metadata": {},
   "source": [
    "Если пропуски в разных строках, то удалится в общей сложности 17 строк. Пока восстанавливать пропущенные значения не буду - надо смочь выполнить работу в минимальном объёме."
   ]
  },
  {
   "cell_type": "code",
   "execution_count": 38,
   "id": "95ae3b0f",
   "metadata": {},
   "outputs": [],
   "source": [
    "df_grade = df.loc[(df['Level'].isna())&(df['Srt'].notna())]"
   ]
  },
  {
   "cell_type": "markdown",
   "id": "aae0fcf3",
   "metadata": {},
   "source": [
    "Отделяю фильмы с субтитрами, но неопределённым уровнем языка."
   ]
  },
  {
   "cell_type": "code",
   "execution_count": 39,
   "id": "478aff14",
   "metadata": {},
   "outputs": [
    {
     "data": {
      "text/html": [
       "<div>\n",
       "<style scoped>\n",
       "    .dataframe tbody tr th:only-of-type {\n",
       "        vertical-align: middle;\n",
       "    }\n",
       "\n",
       "    .dataframe tbody tr th {\n",
       "        vertical-align: top;\n",
       "    }\n",
       "\n",
       "    .dataframe thead th {\n",
       "        text-align: right;\n",
       "    }\n",
       "</style>\n",
       "<table border=\"1\" class=\"dataframe\">\n",
       "  <thead>\n",
       "    <tr style=\"text-align: right;\">\n",
       "      <th></th>\n",
       "      <th>Movie</th>\n",
       "      <th>Level</th>\n",
       "      <th>Srt</th>\n",
       "    </tr>\n",
       "  </thead>\n",
       "  <tbody>\n",
       "    <tr>\n",
       "      <th>241</th>\n",
       "      <td>Breaking_Bad_The_Movie(2017)</td>\n",
       "      <td>NaN</td>\n",
       "      <td>1\\n00:00:05,299 --&gt; 00:00:08,220\\nwhat hi good...</td>\n",
       "    </tr>\n",
       "    <tr>\n",
       "      <th>242</th>\n",
       "      <td>Bren╨Т.Brown.The.Call.to.Courage.2019.720.NF.7...</td>\n",
       "      <td>NaN</td>\n",
       "      <td>ï»¿1\\n00:00:07,216 --&gt; 00:00:09,676\\n[presente...</td>\n",
       "    </tr>\n",
       "    <tr>\n",
       "      <th>243</th>\n",
       "      <td>Casper</td>\n",
       "      <td>NaN</td>\n",
       "      <td>1\\n00:00:18,040 --&gt; 00:00:21,870\\n[Music]\\n\\n2...</td>\n",
       "    </tr>\n",
       "    <tr>\n",
       "      <th>244</th>\n",
       "      <td>Gogo_Loves_English</td>\n",
       "      <td>NaN</td>\n",
       "      <td>1\\n00:00:01,130 --&gt; 00:00:18,359\\n[Music]\\n\\n2...</td>\n",
       "    </tr>\n",
       "    <tr>\n",
       "      <th>245</th>\n",
       "      <td>Harry_Potter_and_the_philosophers_stone(2001)</td>\n",
       "      <td>NaN</td>\n",
       "      <td>1\\n00:01:22,065 --&gt; 00:01:27,070\\nI should've ...</td>\n",
       "    </tr>\n",
       "    <tr>\n",
       "      <th>246</th>\n",
       "      <td>Pride_and_Prejudice</td>\n",
       "      <td>NaN</td>\n",
       "      <td>1\\n00:00:20,020 --&gt; 00:00:42,009\\n[Music]\\n\\n2...</td>\n",
       "    </tr>\n",
       "    <tr>\n",
       "      <th>247</th>\n",
       "      <td>The_Ghost_Writer</td>\n",
       "      <td>NaN</td>\n",
       "      <td>1\\n00:00:04,670 --&gt; 00:00:18,579\\n[Music]\\n\\n2...</td>\n",
       "    </tr>\n",
       "    <tr>\n",
       "      <th>248</th>\n",
       "      <td>Up(2009)</td>\n",
       "      <td>NaN</td>\n",
       "      <td>1\\n00:00:46,040 --&gt; 00:00:50,960\\n{\\i1}Movieto...</td>\n",
       "    </tr>\n",
       "    <tr>\n",
       "      <th>249</th>\n",
       "      <td>Westworld_scenes_of_Dr_Robert_Ford</td>\n",
       "      <td>NaN</td>\n",
       "      <td>1\\n00:00:00,000 --&gt; 00:00:21,179\\n[Music]\\n\\n2...</td>\n",
       "    </tr>\n",
       "  </tbody>\n",
       "</table>\n",
       "</div>"
      ],
      "text/plain": [
       "                                                 Movie Level  \\\n",
       "241                       Breaking_Bad_The_Movie(2017)   NaN   \n",
       "242  Bren╨Т.Brown.The.Call.to.Courage.2019.720.NF.7...   NaN   \n",
       "243                                             Casper   NaN   \n",
       "244                                 Gogo_Loves_English   NaN   \n",
       "245      Harry_Potter_and_the_philosophers_stone(2001)   NaN   \n",
       "246                                Pride_and_Prejudice   NaN   \n",
       "247                                   The_Ghost_Writer   NaN   \n",
       "248                                           Up(2009)   NaN   \n",
       "249                 Westworld_scenes_of_Dr_Robert_Ford   NaN   \n",
       "\n",
       "                                                   Srt  \n",
       "241  1\\n00:00:05,299 --> 00:00:08,220\\nwhat hi good...  \n",
       "242  ï»¿1\\n00:00:07,216 --> 00:00:09,676\\n[presente...  \n",
       "243  1\\n00:00:18,040 --> 00:00:21,870\\n[Music]\\n\\n2...  \n",
       "244  1\\n00:00:01,130 --> 00:00:18,359\\n[Music]\\n\\n2...  \n",
       "245  1\\n00:01:22,065 --> 00:01:27,070\\nI should've ...  \n",
       "246  1\\n00:00:20,020 --> 00:00:42,009\\n[Music]\\n\\n2...  \n",
       "247  1\\n00:00:04,670 --> 00:00:18,579\\n[Music]\\n\\n2...  \n",
       "248  1\\n00:00:46,040 --> 00:00:50,960\\n{\\i1}Movieto...  \n",
       "249  1\\n00:00:00,000 --> 00:00:21,179\\n[Music]\\n\\n2...  "
      ]
     },
     "execution_count": 39,
     "metadata": {},
     "output_type": "execute_result"
    }
   ],
   "source": [
    "df_grade"
   ]
  },
  {
   "cell_type": "code",
   "execution_count": 40,
   "id": "d1128226",
   "metadata": {
    "scrolled": true
   },
   "outputs": [],
   "source": [
    "df = df.dropna(subset=['Level', 'Srt'])"
   ]
  },
  {
   "cell_type": "code",
   "execution_count": 41,
   "id": "aa88b86b",
   "metadata": {
    "scrolled": true
   },
   "outputs": [
    {
     "name": "stdout",
     "output_type": "stream",
     "text": [
      "<class 'pandas.core.frame.DataFrame'>\n",
      "Index: 273 entries, 0 to 289\n",
      "Data columns (total 3 columns):\n",
      " #   Column  Non-Null Count  Dtype \n",
      "---  ------  --------------  ----- \n",
      " 0   Movie   273 non-null    object\n",
      " 1   Level   273 non-null    object\n",
      " 2   Srt     273 non-null    object\n",
      "dtypes: object(3)\n",
      "memory usage: 8.5+ KB\n"
     ]
    }
   ],
   "source": [
    "df.info()"
   ]
  },
  {
   "cell_type": "markdown",
   "id": "c45f05b0",
   "metadata": {},
   "source": [
    "Теперь посмотрим на дубли. Найдём - удалим."
   ]
  },
  {
   "cell_type": "code",
   "execution_count": 42,
   "id": "213d3a40",
   "metadata": {},
   "outputs": [
    {
     "data": {
      "text/plain": [
       "3"
      ]
     },
     "execution_count": 42,
     "metadata": {},
     "output_type": "execute_result"
    }
   ],
   "source": [
    "df.duplicated().sum()"
   ]
  },
  {
   "cell_type": "code",
   "execution_count": 43,
   "id": "12fdafb1",
   "metadata": {
    "scrolled": true
   },
   "outputs": [
    {
     "data": {
      "text/html": [
       "<div>\n",
       "<style scoped>\n",
       "    .dataframe tbody tr th:only-of-type {\n",
       "        vertical-align: middle;\n",
       "    }\n",
       "\n",
       "    .dataframe tbody tr th {\n",
       "        vertical-align: top;\n",
       "    }\n",
       "\n",
       "    .dataframe thead th {\n",
       "        text-align: right;\n",
       "    }\n",
       "</style>\n",
       "<table border=\"1\" class=\"dataframe\">\n",
       "  <thead>\n",
       "    <tr style=\"text-align: right;\">\n",
       "      <th></th>\n",
       "      <th>index</th>\n",
       "      <th>Movie</th>\n",
       "      <th>Level</th>\n",
       "      <th>Srt</th>\n",
       "    </tr>\n",
       "  </thead>\n",
       "  <tbody>\n",
       "    <tr>\n",
       "      <th>0</th>\n",
       "      <td>0</td>\n",
       "      <td>10_Cloverfield_lane(2016)</td>\n",
       "      <td>B1</td>\n",
       "      <td>1\\n00:00:55,279 --&gt; 00:01:07,279\\n&lt;font color=...</td>\n",
       "    </tr>\n",
       "    <tr>\n",
       "      <th>1</th>\n",
       "      <td>1</td>\n",
       "      <td>10_things_I_hate_about_you(1999)</td>\n",
       "      <td>B1</td>\n",
       "      <td>1\\n00:01:54,281 --&gt; 00:01:55,698\\nHey!\\n\\n2\\n0...</td>\n",
       "    </tr>\n",
       "    <tr>\n",
       "      <th>2</th>\n",
       "      <td>2</td>\n",
       "      <td>A_knights_tale(2001)</td>\n",
       "      <td>B2</td>\n",
       "      <td>1\\n00:00:15,089 --&gt; 00:00:21,229\\nResync: Xenz...</td>\n",
       "    </tr>\n",
       "    <tr>\n",
       "      <th>3</th>\n",
       "      <td>3</td>\n",
       "      <td>A_star_is_born(2018)</td>\n",
       "      <td>B2</td>\n",
       "      <td>1\\n00:00:17,610 --&gt; 00:00:22,610\\n- &lt;i&gt;&lt;font c...</td>\n",
       "    </tr>\n",
       "    <tr>\n",
       "      <th>4</th>\n",
       "      <td>4</td>\n",
       "      <td>Aladdin(1992)</td>\n",
       "      <td>A2</td>\n",
       "      <td>1\\n00:00:27,240 --&gt; 00:00:30,879\\n&lt;i&gt;Oh, I com...</td>\n",
       "    </tr>\n",
       "    <tr>\n",
       "      <th>5</th>\n",
       "      <td>5</td>\n",
       "      <td>All_dogs_go_to_heaven(1989)</td>\n",
       "      <td>A2</td>\n",
       "      <td>1\\n00:00:12,319 --&gt; 00:00:14,821\\nCAPTIONING M...</td>\n",
       "    </tr>\n",
       "    <tr>\n",
       "      <th>6</th>\n",
       "      <td>6</td>\n",
       "      <td>An_American_tail(1986)</td>\n",
       "      <td>A2</td>\n",
       "      <td>ï»¿1\\n00:02:24,080 --&gt; 00:02:26,528\\n(INDISTIN...</td>\n",
       "    </tr>\n",
       "    <tr>\n",
       "      <th>7</th>\n",
       "      <td>7</td>\n",
       "      <td>Babe(1995)</td>\n",
       "      <td>A2</td>\n",
       "      <td>0\\n00:02:31,114 --&gt; 00:02:34,316\\nThis is a ta...</td>\n",
       "    </tr>\n",
       "  </tbody>\n",
       "</table>\n",
       "</div>"
      ],
      "text/plain": [
       "   index                             Movie Level  \\\n",
       "0      0         10_Cloverfield_lane(2016)    B1   \n",
       "1      1  10_things_I_hate_about_you(1999)    B1   \n",
       "2      2              A_knights_tale(2001)    B2   \n",
       "3      3              A_star_is_born(2018)    B2   \n",
       "4      4                     Aladdin(1992)    A2   \n",
       "5      5       All_dogs_go_to_heaven(1989)    A2   \n",
       "6      6            An_American_tail(1986)    A2   \n",
       "7      7                        Babe(1995)    A2   \n",
       "\n",
       "                                                 Srt  \n",
       "0  1\\n00:00:55,279 --> 00:01:07,279\\n<font color=...  \n",
       "1  1\\n00:01:54,281 --> 00:01:55,698\\nHey!\\n\\n2\\n0...  \n",
       "2  1\\n00:00:15,089 --> 00:00:21,229\\nResync: Xenz...  \n",
       "3  1\\n00:00:17,610 --> 00:00:22,610\\n- <i><font c...  \n",
       "4  1\\n00:00:27,240 --> 00:00:30,879\\n<i>Oh, I com...  \n",
       "5  1\\n00:00:12,319 --> 00:00:14,821\\nCAPTIONING M...  \n",
       "6  ï»¿1\\n00:02:24,080 --> 00:02:26,528\\n(INDISTIN...  \n",
       "7  0\\n00:02:31,114 --> 00:02:34,316\\nThis is a ta...  "
      ]
     },
     "execution_count": 43,
     "metadata": {},
     "output_type": "execute_result"
    }
   ],
   "source": [
    "df.drop_duplicates()\n",
    "\n",
    "df = df.reset_index()\n",
    "\n",
    "df.head(8)"
   ]
  },
  {
   "cell_type": "code",
   "execution_count": 44,
   "id": "d4682ee1",
   "metadata": {},
   "outputs": [
    {
     "data": {
      "text/html": [
       "<div>\n",
       "<style scoped>\n",
       "    .dataframe tbody tr th:only-of-type {\n",
       "        vertical-align: middle;\n",
       "    }\n",
       "\n",
       "    .dataframe tbody tr th {\n",
       "        vertical-align: top;\n",
       "    }\n",
       "\n",
       "    .dataframe thead th {\n",
       "        text-align: right;\n",
       "    }\n",
       "</style>\n",
       "<table border=\"1\" class=\"dataframe\">\n",
       "  <thead>\n",
       "    <tr style=\"text-align: right;\">\n",
       "      <th></th>\n",
       "      <th>Movie</th>\n",
       "      <th>Level</th>\n",
       "      <th>Srt</th>\n",
       "    </tr>\n",
       "  </thead>\n",
       "  <tbody>\n",
       "    <tr>\n",
       "      <th>0</th>\n",
       "      <td>10_Cloverfield_lane(2016)</td>\n",
       "      <td>B1</td>\n",
       "      <td>1\\n00:00:55,279 --&gt; 00:01:07,279\\n&lt;font color=...</td>\n",
       "    </tr>\n",
       "    <tr>\n",
       "      <th>1</th>\n",
       "      <td>10_things_I_hate_about_you(1999)</td>\n",
       "      <td>B1</td>\n",
       "      <td>1\\n00:01:54,281 --&gt; 00:01:55,698\\nHey!\\n\\n2\\n0...</td>\n",
       "    </tr>\n",
       "    <tr>\n",
       "      <th>2</th>\n",
       "      <td>A_knights_tale(2001)</td>\n",
       "      <td>B2</td>\n",
       "      <td>1\\n00:00:15,089 --&gt; 00:00:21,229\\nResync: Xenz...</td>\n",
       "    </tr>\n",
       "    <tr>\n",
       "      <th>3</th>\n",
       "      <td>A_star_is_born(2018)</td>\n",
       "      <td>B2</td>\n",
       "      <td>1\\n00:00:17,610 --&gt; 00:00:22,610\\n- &lt;i&gt;&lt;font c...</td>\n",
       "    </tr>\n",
       "    <tr>\n",
       "      <th>4</th>\n",
       "      <td>Aladdin(1992)</td>\n",
       "      <td>A2</td>\n",
       "      <td>1\\n00:00:27,240 --&gt; 00:00:30,879\\n&lt;i&gt;Oh, I com...</td>\n",
       "    </tr>\n",
       "    <tr>\n",
       "      <th>...</th>\n",
       "      <td>...</td>\n",
       "      <td>...</td>\n",
       "      <td>...</td>\n",
       "    </tr>\n",
       "    <tr>\n",
       "      <th>268</th>\n",
       "      <td>Virgin.River.S01E06.INTERNAL.720p.WEB.x264-STRiFE</td>\n",
       "      <td>B2</td>\n",
       "      <td>1\\n00:00:18,852 --&gt; 00:00:19,852\\nHey.\\n\\n2\\n0...</td>\n",
       "    </tr>\n",
       "    <tr>\n",
       "      <th>269</th>\n",
       "      <td>Virgin.River.S01E07.INTERNAL.720p.WEB.x264-STRiFE</td>\n",
       "      <td>B2</td>\n",
       "      <td>1\\n00:00:10,468 --&gt; 00:00:13,178\\nAre you sure...</td>\n",
       "    </tr>\n",
       "    <tr>\n",
       "      <th>270</th>\n",
       "      <td>Virgin.River.S01E08.INTERNAL.720p.WEB.x264-STRiFE</td>\n",
       "      <td>B2</td>\n",
       "      <td>1\\n00:00:07,382 --&gt; 00:00:10,012\\nTwo IVs in p...</td>\n",
       "    </tr>\n",
       "    <tr>\n",
       "      <th>271</th>\n",
       "      <td>Virgin.River.S01E09.INTERNAL.720p.WEB.x264-STRiFE</td>\n",
       "      <td>B2</td>\n",
       "      <td>1\\n00:00:16,474 --&gt; 00:00:18,024\\nOh.\\n\\n2\\n00...</td>\n",
       "    </tr>\n",
       "    <tr>\n",
       "      <th>272</th>\n",
       "      <td>Virgin.River.S01E10.INTERNAL.720p.WEB.x264-STRiFE</td>\n",
       "      <td>B2</td>\n",
       "      <td>1\\n00:00:07,424 --&gt; 00:00:08,844\\nSo, how long...</td>\n",
       "    </tr>\n",
       "  </tbody>\n",
       "</table>\n",
       "<p>273 rows × 3 columns</p>\n",
       "</div>"
      ],
      "text/plain": [
       "                                                 Movie Level  \\\n",
       "0                            10_Cloverfield_lane(2016)    B1   \n",
       "1                     10_things_I_hate_about_you(1999)    B1   \n",
       "2                                 A_knights_tale(2001)    B2   \n",
       "3                                 A_star_is_born(2018)    B2   \n",
       "4                                        Aladdin(1992)    A2   \n",
       "..                                                 ...   ...   \n",
       "268  Virgin.River.S01E06.INTERNAL.720p.WEB.x264-STRiFE    B2   \n",
       "269  Virgin.River.S01E07.INTERNAL.720p.WEB.x264-STRiFE    B2   \n",
       "270  Virgin.River.S01E08.INTERNAL.720p.WEB.x264-STRiFE    B2   \n",
       "271  Virgin.River.S01E09.INTERNAL.720p.WEB.x264-STRiFE    B2   \n",
       "272  Virgin.River.S01E10.INTERNAL.720p.WEB.x264-STRiFE    B2   \n",
       "\n",
       "                                                   Srt  \n",
       "0    1\\n00:00:55,279 --> 00:01:07,279\\n<font color=...  \n",
       "1    1\\n00:01:54,281 --> 00:01:55,698\\nHey!\\n\\n2\\n0...  \n",
       "2    1\\n00:00:15,089 --> 00:00:21,229\\nResync: Xenz...  \n",
       "3    1\\n00:00:17,610 --> 00:00:22,610\\n- <i><font c...  \n",
       "4    1\\n00:00:27,240 --> 00:00:30,879\\n<i>Oh, I com...  \n",
       "..                                                 ...  \n",
       "268  1\\n00:00:18,852 --> 00:00:19,852\\nHey.\\n\\n2\\n0...  \n",
       "269  1\\n00:00:10,468 --> 00:00:13,178\\nAre you sure...  \n",
       "270  1\\n00:00:07,382 --> 00:00:10,012\\nTwo IVs in p...  \n",
       "271  1\\n00:00:16,474 --> 00:00:18,024\\nOh.\\n\\n2\\n00...  \n",
       "272  1\\n00:00:07,424 --> 00:00:08,844\\nSo, how long...  \n",
       "\n",
       "[273 rows x 3 columns]"
      ]
     },
     "execution_count": 44,
     "metadata": {},
     "output_type": "execute_result"
    }
   ],
   "source": [
    "df.drop('index', axis=1)"
   ]
  },
  {
   "cell_type": "code",
   "execution_count": 45,
   "id": "118b76e0",
   "metadata": {},
   "outputs": [],
   "source": [
    "del df_1, df_2, df_3, df_2_3, df_all"
   ]
  },
  {
   "cell_type": "markdown",
   "id": "2357aecf",
   "metadata": {},
   "source": [
    "Удалила уже ненужные переменные."
   ]
  },
  {
   "cell_type": "markdown",
   "id": "d72f438b",
   "metadata": {},
   "source": [
    "### Обработка субтитров\n",
    "\n",
    "Необходимо преобразовать текст в числовую форму, удобную для моделирования.\n",
    "\n",
    "Сначала избавимся от лишних символов, стоп-слов и скобок."
   ]
  },
  {
   "cell_type": "code",
   "execution_count": 71,
   "id": "7382b029",
   "metadata": {},
   "outputs": [],
   "source": [
    "stop = stopwords.words('english') + [\"i'm\", \"i'll\", \"oh\", \"hey\"]"
   ]
  },
  {
   "cell_type": "code",
   "execution_count": 76,
   "id": "3ea09b09",
   "metadata": {},
   "outputs": [
    {
     "data": {
      "text/plain": [
       "['i',\n",
       " 'me',\n",
       " 'my',\n",
       " 'myself',\n",
       " 'we',\n",
       " 'our',\n",
       " 'ours',\n",
       " 'ourselves',\n",
       " 'you',\n",
       " \"you're\",\n",
       " \"you've\",\n",
       " \"you'll\",\n",
       " \"you'd\",\n",
       " 'your',\n",
       " 'yours',\n",
       " 'yourself',\n",
       " 'yourselves',\n",
       " 'he',\n",
       " 'him',\n",
       " 'his',\n",
       " 'himself',\n",
       " 'she',\n",
       " \"she's\",\n",
       " 'her',\n",
       " 'hers',\n",
       " 'herself',\n",
       " 'it',\n",
       " \"it's\",\n",
       " 'its',\n",
       " 'itself',\n",
       " 'they',\n",
       " 'them',\n",
       " 'their',\n",
       " 'theirs',\n",
       " 'themselves',\n",
       " 'what',\n",
       " 'which',\n",
       " 'who',\n",
       " 'whom',\n",
       " 'this',\n",
       " 'that',\n",
       " \"that'll\",\n",
       " 'these',\n",
       " 'those',\n",
       " 'am',\n",
       " 'is',\n",
       " 'are',\n",
       " 'was',\n",
       " 'were',\n",
       " 'be',\n",
       " 'been',\n",
       " 'being',\n",
       " 'have',\n",
       " 'has',\n",
       " 'had',\n",
       " 'having',\n",
       " 'do',\n",
       " 'does',\n",
       " 'did',\n",
       " 'doing',\n",
       " 'a',\n",
       " 'an',\n",
       " 'the',\n",
       " 'and',\n",
       " 'but',\n",
       " 'if',\n",
       " 'or',\n",
       " 'because',\n",
       " 'as',\n",
       " 'until',\n",
       " 'while',\n",
       " 'of',\n",
       " 'at',\n",
       " 'by',\n",
       " 'for',\n",
       " 'with',\n",
       " 'about',\n",
       " 'against',\n",
       " 'between',\n",
       " 'into',\n",
       " 'through',\n",
       " 'during',\n",
       " 'before',\n",
       " 'after',\n",
       " 'above',\n",
       " 'below',\n",
       " 'to',\n",
       " 'from',\n",
       " 'up',\n",
       " 'down',\n",
       " 'in',\n",
       " 'out',\n",
       " 'on',\n",
       " 'off',\n",
       " 'over',\n",
       " 'under',\n",
       " 'again',\n",
       " 'further',\n",
       " 'then',\n",
       " 'once',\n",
       " 'here',\n",
       " 'there',\n",
       " 'when',\n",
       " 'where',\n",
       " 'why',\n",
       " 'how',\n",
       " 'all',\n",
       " 'any',\n",
       " 'both',\n",
       " 'each',\n",
       " 'few',\n",
       " 'more',\n",
       " 'most',\n",
       " 'other',\n",
       " 'some',\n",
       " 'such',\n",
       " 'no',\n",
       " 'nor',\n",
       " 'not',\n",
       " 'only',\n",
       " 'own',\n",
       " 'same',\n",
       " 'so',\n",
       " 'than',\n",
       " 'too',\n",
       " 'very',\n",
       " 's',\n",
       " 't',\n",
       " 'can',\n",
       " 'will',\n",
       " 'just',\n",
       " 'don',\n",
       " \"don't\",\n",
       " 'should',\n",
       " \"should've\",\n",
       " 'now',\n",
       " 'd',\n",
       " 'll',\n",
       " 'm',\n",
       " 'o',\n",
       " 're',\n",
       " 've',\n",
       " 'y',\n",
       " 'ain',\n",
       " 'aren',\n",
       " \"aren't\",\n",
       " 'couldn',\n",
       " \"couldn't\",\n",
       " 'didn',\n",
       " \"didn't\",\n",
       " 'doesn',\n",
       " \"doesn't\",\n",
       " 'hadn',\n",
       " \"hadn't\",\n",
       " 'hasn',\n",
       " \"hasn't\",\n",
       " 'haven',\n",
       " \"haven't\",\n",
       " 'isn',\n",
       " \"isn't\",\n",
       " 'ma',\n",
       " 'mightn',\n",
       " \"mightn't\",\n",
       " 'mustn',\n",
       " \"mustn't\",\n",
       " 'needn',\n",
       " \"needn't\",\n",
       " 'shan',\n",
       " \"shan't\",\n",
       " 'shouldn',\n",
       " \"shouldn't\",\n",
       " 'wasn',\n",
       " \"wasn't\",\n",
       " 'weren',\n",
       " \"weren't\",\n",
       " 'won',\n",
       " \"won't\",\n",
       " 'wouldn',\n",
       " \"wouldn't\",\n",
       " \"i'm\",\n",
       " \"i'll\",\n",
       " 'oh',\n",
       " 'hey']"
      ]
     },
     "execution_count": 76,
     "metadata": {},
     "output_type": "execute_result"
    }
   ],
   "source": [
    "stop\n"
   ]
  },
  {
   "cell_type": "markdown",
   "id": "5ee10749",
   "metadata": {},
   "source": [
    "Нужно оставить только текст, поэтому с помощью регулярных выражений удалим ненужное - небуквенные символы, содержимое скобок, html-теги, переносы, пробелы больше одного подряд."
   ]
  },
  {
   "cell_type": "code",
   "execution_count": 47,
   "id": "72a0c66e",
   "metadata": {},
   "outputs": [],
   "source": [
    "del_n = re.compile('\\n')                  # перенос каретки\n",
    "del_tags = re.compile('<[^>]*>')          # html-теги\n",
    "del_brackets = re.compile('\\([^)]*\\)')    # содержимое круглых скобок\n",
    "clean_text = re.compile('[^а-яa-z\\s\\']')  # все небуквенные символы кроме пробелов и апострофов\n",
    "del_spaces = re.compile('\\s{2,}')         \n",
    "\n",
    "def prepare_text(text):\n",
    "    text = del_n.sub(' ', str(text).lower())\n",
    "    text = del_tags.sub('', text)\n",
    "    text = del_brackets.sub('', text)\n",
    "    res_text = clean_text.sub('', text)\n",
    "    res_text = res_text.lower()  #перевод в нижний регистр\n",
    "    return del_spaces.sub(' ',res_text)\n",
    "    \n"
   ]
  },
  {
   "cell_type": "code",
   "execution_count": 48,
   "id": "e581bff6",
   "metadata": {},
   "outputs": [
    {
     "data": {
      "text/html": [
       "<div>\n",
       "<style scoped>\n",
       "    .dataframe tbody tr th:only-of-type {\n",
       "        vertical-align: middle;\n",
       "    }\n",
       "\n",
       "    .dataframe tbody tr th {\n",
       "        vertical-align: top;\n",
       "    }\n",
       "\n",
       "    .dataframe thead th {\n",
       "        text-align: right;\n",
       "    }\n",
       "</style>\n",
       "<table border=\"1\" class=\"dataframe\">\n",
       "  <thead>\n",
       "    <tr style=\"text-align: right;\">\n",
       "      <th></th>\n",
       "      <th>index</th>\n",
       "      <th>Movie</th>\n",
       "      <th>Level</th>\n",
       "      <th>Srt</th>\n",
       "    </tr>\n",
       "  </thead>\n",
       "  <tbody>\n",
       "    <tr>\n",
       "      <th>0</th>\n",
       "      <td>0</td>\n",
       "      <td>10_Cloverfield_lane(2016)</td>\n",
       "      <td>B1</td>\n",
       "      <td>1\\n00:00:55,279 --&gt; 00:01:07,279\\n&lt;font color=...</td>\n",
       "    </tr>\n",
       "    <tr>\n",
       "      <th>1</th>\n",
       "      <td>1</td>\n",
       "      <td>10_things_I_hate_about_you(1999)</td>\n",
       "      <td>B1</td>\n",
       "      <td>1\\n00:01:54,281 --&gt; 00:01:55,698\\nHey!\\n\\n2\\n0...</td>\n",
       "    </tr>\n",
       "    <tr>\n",
       "      <th>2</th>\n",
       "      <td>2</td>\n",
       "      <td>A_knights_tale(2001)</td>\n",
       "      <td>B2</td>\n",
       "      <td>1\\n00:00:15,089 --&gt; 00:00:21,229\\nResync: Xenz...</td>\n",
       "    </tr>\n",
       "    <tr>\n",
       "      <th>3</th>\n",
       "      <td>3</td>\n",
       "      <td>A_star_is_born(2018)</td>\n",
       "      <td>B2</td>\n",
       "      <td>1\\n00:00:17,610 --&gt; 00:00:22,610\\n- &lt;i&gt;&lt;font c...</td>\n",
       "    </tr>\n",
       "    <tr>\n",
       "      <th>4</th>\n",
       "      <td>4</td>\n",
       "      <td>Aladdin(1992)</td>\n",
       "      <td>A2</td>\n",
       "      <td>1\\n00:00:27,240 --&gt; 00:00:30,879\\n&lt;i&gt;Oh, I com...</td>\n",
       "    </tr>\n",
       "    <tr>\n",
       "      <th>5</th>\n",
       "      <td>5</td>\n",
       "      <td>All_dogs_go_to_heaven(1989)</td>\n",
       "      <td>A2</td>\n",
       "      <td>1\\n00:00:12,319 --&gt; 00:00:14,821\\nCAPTIONING M...</td>\n",
       "    </tr>\n",
       "    <tr>\n",
       "      <th>6</th>\n",
       "      <td>6</td>\n",
       "      <td>An_American_tail(1986)</td>\n",
       "      <td>A2</td>\n",
       "      <td>ï»¿1\\n00:02:24,080 --&gt; 00:02:26,528\\n(INDISTIN...</td>\n",
       "    </tr>\n",
       "    <tr>\n",
       "      <th>7</th>\n",
       "      <td>7</td>\n",
       "      <td>Babe(1995)</td>\n",
       "      <td>A2</td>\n",
       "      <td>0\\n00:02:31,114 --&gt; 00:02:34,316\\nThis is a ta...</td>\n",
       "    </tr>\n",
       "  </tbody>\n",
       "</table>\n",
       "</div>"
      ],
      "text/plain": [
       "   index                             Movie Level  \\\n",
       "0      0         10_Cloverfield_lane(2016)    B1   \n",
       "1      1  10_things_I_hate_about_you(1999)    B1   \n",
       "2      2              A_knights_tale(2001)    B2   \n",
       "3      3              A_star_is_born(2018)    B2   \n",
       "4      4                     Aladdin(1992)    A2   \n",
       "5      5       All_dogs_go_to_heaven(1989)    A2   \n",
       "6      6            An_American_tail(1986)    A2   \n",
       "7      7                        Babe(1995)    A2   \n",
       "\n",
       "                                                 Srt  \n",
       "0  1\\n00:00:55,279 --> 00:01:07,279\\n<font color=...  \n",
       "1  1\\n00:01:54,281 --> 00:01:55,698\\nHey!\\n\\n2\\n0...  \n",
       "2  1\\n00:00:15,089 --> 00:00:21,229\\nResync: Xenz...  \n",
       "3  1\\n00:00:17,610 --> 00:00:22,610\\n- <i><font c...  \n",
       "4  1\\n00:00:27,240 --> 00:00:30,879\\n<i>Oh, I com...  \n",
       "5  1\\n00:00:12,319 --> 00:00:14,821\\nCAPTIONING M...  \n",
       "6  ï»¿1\\n00:02:24,080 --> 00:02:26,528\\n(INDISTIN...  \n",
       "7  0\\n00:02:31,114 --> 00:02:34,316\\nThis is a ta...  "
      ]
     },
     "execution_count": 48,
     "metadata": {},
     "output_type": "execute_result"
    }
   ],
   "source": [
    "df.head(8)"
   ]
  },
  {
   "cell_type": "markdown",
   "id": "44a74228",
   "metadata": {},
   "source": [
    "Следующая функция разбивает текст субтитров на слова и удаляет те, которые встречаются в списке стоп-слов.\n",
    "Пока не очень понимаю, пригодится ли длина первоначального текста, но я её посчитаю. И длину образовавшегося массива слов."
   ]
  },
  {
   "cell_type": "code",
   "execution_count": 49,
   "id": "c3be2f23",
   "metadata": {},
   "outputs": [],
   "source": [
    "def df_stop_words(Sr, stop):\n",
    "\n",
    "    for itm in range(len(Sr)):\n",
    "        line = Sr[itm]\n",
    "        line = prepare_text(line)\n",
    "\n",
    "        line = [w for w in line.split() if w not in stop]\n",
    "        Sr[itm] = line\n",
    "\n",
    "    return Sr\n",
    "\n"
   ]
  },
  {
   "cell_type": "code",
   "execution_count": 74,
   "id": "77a41462",
   "metadata": {},
   "outputs": [],
   "source": [
    "df['Srt'] = df_stop_words(df['Srt'], stop)"
   ]
  },
  {
   "cell_type": "code",
   "execution_count": 75,
   "id": "264fe569",
   "metadata": {
    "scrolled": true
   },
   "outputs": [
    {
     "data": {
      "text/plain": [
       "0      ['fix', 'sync', 'bozxphd', 'enjoy', 'flick', '...\n",
       "1      ['hey', 'right', 'cameron', 'go', 'nine', 'sch...\n",
       "2      ['resync', 'xenzainef', 'retail', 'help', he',...\n",
       "3      ['sync', 'correct', 'mrcjnthn', 'get', 'black'...\n",
       "4      ['oh', 'come', 'land', 'faraway', 'place', 'ca...\n",
       "                             ...                        \n",
       "268    ['hey', 'hey', 'chainsaw', 'easier', 'yeah', '...\n",
       "269    ['sure', can't, 'convinc', 'stay', 'right', 't...\n",
       "270    ['two', 'iv', 'place', 'antecubit', 'fossa', '...\n",
       "271    ['oh', 'oh', 'yeah', 'okay', 'hey', 'hey', 'ri...\n",
       "272    ['long', 'known', i'v, 'suspect', 'coupl', 'we...\n",
       "Name: Srt, Length: 273, dtype: object"
      ]
     },
     "execution_count": 75,
     "metadata": {},
     "output_type": "execute_result"
    }
   ],
   "source": [
    "df['Srt']"
   ]
  },
  {
   "cell_type": "code",
   "execution_count": 52,
   "id": "647aeb19",
   "metadata": {},
   "outputs": [
    {
     "data": {
      "text/html": [
       "<div>\n",
       "<style scoped>\n",
       "    .dataframe tbody tr th:only-of-type {\n",
       "        vertical-align: middle;\n",
       "    }\n",
       "\n",
       "    .dataframe tbody tr th {\n",
       "        vertical-align: top;\n",
       "    }\n",
       "\n",
       "    .dataframe thead th {\n",
       "        text-align: right;\n",
       "    }\n",
       "</style>\n",
       "<table border=\"1\" class=\"dataframe\">\n",
       "  <thead>\n",
       "    <tr style=\"text-align: right;\">\n",
       "      <th></th>\n",
       "      <th>index</th>\n",
       "      <th>Movie</th>\n",
       "      <th>Level</th>\n",
       "      <th>Srt</th>\n",
       "    </tr>\n",
       "  </thead>\n",
       "  <tbody>\n",
       "    <tr>\n",
       "      <th>0</th>\n",
       "      <td>0</td>\n",
       "      <td>10_Cloverfield_lane(2016)</td>\n",
       "      <td>B1</td>\n",
       "      <td>[fixed, synced, bozxphd, enjoy, flick, ben, ph...</td>\n",
       "    </tr>\n",
       "    <tr>\n",
       "      <th>1</th>\n",
       "      <td>1</td>\n",
       "      <td>10_things_I_hate_about_you(1999)</td>\n",
       "      <td>B1</td>\n",
       "      <td>[hey, right, cameron, go, nine, schools, years...</td>\n",
       "    </tr>\n",
       "    <tr>\n",
       "      <th>2</th>\n",
       "      <td>2</td>\n",
       "      <td>A_knights_tale(2001)</td>\n",
       "      <td>B2</td>\n",
       "      <td>[resync, xenzainef, retail, help, he's, due, l...</td>\n",
       "    </tr>\n",
       "    <tr>\n",
       "      <th>3</th>\n",
       "      <td>3</td>\n",
       "      <td>A_star_is_born(2018)</td>\n",
       "      <td>B2</td>\n",
       "      <td>[synced, corrected, mrcjnthn, get, black, eyes...</td>\n",
       "    </tr>\n",
       "    <tr>\n",
       "      <th>4</th>\n",
       "      <td>4</td>\n",
       "      <td>Aladdin(1992)</td>\n",
       "      <td>A2</td>\n",
       "      <td>[oh, come, land, faraway, place, caravan, came...</td>\n",
       "    </tr>\n",
       "    <tr>\n",
       "      <th>5</th>\n",
       "      <td>5</td>\n",
       "      <td>All_dogs_go_to_heaven(1989)</td>\n",
       "      <td>A2</td>\n",
       "      <td>[captioning, made, possible, mgm, home, entert...</td>\n",
       "    </tr>\n",
       "    <tr>\n",
       "      <th>6</th>\n",
       "      <td>6</td>\n",
       "      <td>An_American_tail(1986)</td>\n",
       "      <td>A2</td>\n",
       "      <td>[mama, tanya, fievel, stop, twirling, twirling...</td>\n",
       "    </tr>\n",
       "    <tr>\n",
       "      <th>7</th>\n",
       "      <td>7</td>\n",
       "      <td>Babe(1995)</td>\n",
       "      <td>A2</td>\n",
       "      <td>[tale, aboutan, unprejudiced, heart, changed, ...</td>\n",
       "    </tr>\n",
       "  </tbody>\n",
       "</table>\n",
       "</div>"
      ],
      "text/plain": [
       "   index                             Movie Level  \\\n",
       "0      0         10_Cloverfield_lane(2016)    B1   \n",
       "1      1  10_things_I_hate_about_you(1999)    B1   \n",
       "2      2              A_knights_tale(2001)    B2   \n",
       "3      3              A_star_is_born(2018)    B2   \n",
       "4      4                     Aladdin(1992)    A2   \n",
       "5      5       All_dogs_go_to_heaven(1989)    A2   \n",
       "6      6            An_American_tail(1986)    A2   \n",
       "7      7                        Babe(1995)    A2   \n",
       "\n",
       "                                                 Srt  \n",
       "0  [fixed, synced, bozxphd, enjoy, flick, ben, ph...  \n",
       "1  [hey, right, cameron, go, nine, schools, years...  \n",
       "2  [resync, xenzainef, retail, help, he's, due, l...  \n",
       "3  [synced, corrected, mrcjnthn, get, black, eyes...  \n",
       "4  [oh, come, land, faraway, place, caravan, came...  \n",
       "5  [captioning, made, possible, mgm, home, entert...  \n",
       "6  [mama, tanya, fievel, stop, twirling, twirling...  \n",
       "7  [tale, aboutan, unprejudiced, heart, changed, ...  "
      ]
     },
     "execution_count": 52,
     "metadata": {},
     "output_type": "execute_result"
    }
   ],
   "source": [
    "df.head(8)"
   ]
  },
  {
   "cell_type": "markdown",
   "id": "e4316ea0",
   "metadata": {},
   "source": [
    "Теперь проведём лемматизацию - приведём слова к корневой форме."
   ]
  },
  {
   "cell_type": "code",
   "execution_count": 53,
   "id": "c74e4f11",
   "metadata": {},
   "outputs": [],
   "source": [
    "#stemmer = WordNetLemmatizer()\n",
    "from nltk.stem.porter import PorterStemmer\n",
    "porter = PorterStemmer()\n"
   ]
  },
  {
   "cell_type": "code",
   "execution_count": 54,
   "id": "e9a42d88",
   "metadata": {},
   "outputs": [],
   "source": [
    "def lemmatise_srt(Sr):\n",
    "    for itm in range(len(Sr)):\n",
    "        line = Sr[itm]\n",
    "        line = [porter.stem(word) for word in line]\n",
    "        Sr[itm] =  str(line)\n",
    "    return Sr\n",
    "    "
   ]
  },
  {
   "cell_type": "code",
   "execution_count": 55,
   "id": "68f74e95",
   "metadata": {},
   "outputs": [],
   "source": [
    "df['Srt'] = lemmatise_srt(df['Srt'])"
   ]
  },
  {
   "cell_type": "code",
   "execution_count": 56,
   "id": "63b5bc94",
   "metadata": {
    "scrolled": false
   },
   "outputs": [
    {
     "data": {
      "text/html": [
       "<div>\n",
       "<style scoped>\n",
       "    .dataframe tbody tr th:only-of-type {\n",
       "        vertical-align: middle;\n",
       "    }\n",
       "\n",
       "    .dataframe tbody tr th {\n",
       "        vertical-align: top;\n",
       "    }\n",
       "\n",
       "    .dataframe thead th {\n",
       "        text-align: right;\n",
       "    }\n",
       "</style>\n",
       "<table border=\"1\" class=\"dataframe\">\n",
       "  <thead>\n",
       "    <tr style=\"text-align: right;\">\n",
       "      <th></th>\n",
       "      <th>index</th>\n",
       "      <th>Movie</th>\n",
       "      <th>Level</th>\n",
       "      <th>Srt</th>\n",
       "    </tr>\n",
       "  </thead>\n",
       "  <tbody>\n",
       "    <tr>\n",
       "      <th>0</th>\n",
       "      <td>0</td>\n",
       "      <td>10_Cloverfield_lane(2016)</td>\n",
       "      <td>B1</td>\n",
       "      <td>['fix', 'sync', 'bozxphd', 'enjoy', 'flick', '...</td>\n",
       "    </tr>\n",
       "    <tr>\n",
       "      <th>1</th>\n",
       "      <td>1</td>\n",
       "      <td>10_things_I_hate_about_you(1999)</td>\n",
       "      <td>B1</td>\n",
       "      <td>['hey', 'right', 'cameron', 'go', 'nine', 'sch...</td>\n",
       "    </tr>\n",
       "    <tr>\n",
       "      <th>2</th>\n",
       "      <td>2</td>\n",
       "      <td>A_knights_tale(2001)</td>\n",
       "      <td>B2</td>\n",
       "      <td>['resync', 'xenzainef', 'retail', 'help', \"he'...</td>\n",
       "    </tr>\n",
       "    <tr>\n",
       "      <th>3</th>\n",
       "      <td>3</td>\n",
       "      <td>A_star_is_born(2018)</td>\n",
       "      <td>B2</td>\n",
       "      <td>['sync', 'correct', 'mrcjnthn', 'get', 'black'...</td>\n",
       "    </tr>\n",
       "    <tr>\n",
       "      <th>4</th>\n",
       "      <td>4</td>\n",
       "      <td>Aladdin(1992)</td>\n",
       "      <td>A2</td>\n",
       "      <td>['oh', 'come', 'land', 'faraway', 'place', 'ca...</td>\n",
       "    </tr>\n",
       "    <tr>\n",
       "      <th>5</th>\n",
       "      <td>5</td>\n",
       "      <td>All_dogs_go_to_heaven(1989)</td>\n",
       "      <td>A2</td>\n",
       "      <td>['caption', 'made', 'possibl', 'mgm', 'home', ...</td>\n",
       "    </tr>\n",
       "    <tr>\n",
       "      <th>6</th>\n",
       "      <td>6</td>\n",
       "      <td>An_American_tail(1986)</td>\n",
       "      <td>A2</td>\n",
       "      <td>['mama', 'tanya', 'fievel', 'stop', 'twirl', '...</td>\n",
       "    </tr>\n",
       "    <tr>\n",
       "      <th>7</th>\n",
       "      <td>7</td>\n",
       "      <td>Babe(1995)</td>\n",
       "      <td>A2</td>\n",
       "      <td>['tale', 'aboutan', 'unprejud', 'heart', 'chan...</td>\n",
       "    </tr>\n",
       "  </tbody>\n",
       "</table>\n",
       "</div>"
      ],
      "text/plain": [
       "   index                             Movie Level  \\\n",
       "0      0         10_Cloverfield_lane(2016)    B1   \n",
       "1      1  10_things_I_hate_about_you(1999)    B1   \n",
       "2      2              A_knights_tale(2001)    B2   \n",
       "3      3              A_star_is_born(2018)    B2   \n",
       "4      4                     Aladdin(1992)    A2   \n",
       "5      5       All_dogs_go_to_heaven(1989)    A2   \n",
       "6      6            An_American_tail(1986)    A2   \n",
       "7      7                        Babe(1995)    A2   \n",
       "\n",
       "                                                 Srt  \n",
       "0  ['fix', 'sync', 'bozxphd', 'enjoy', 'flick', '...  \n",
       "1  ['hey', 'right', 'cameron', 'go', 'nine', 'sch...  \n",
       "2  ['resync', 'xenzainef', 'retail', 'help', \"he'...  \n",
       "3  ['sync', 'correct', 'mrcjnthn', 'get', 'black'...  \n",
       "4  ['oh', 'come', 'land', 'faraway', 'place', 'ca...  \n",
       "5  ['caption', 'made', 'possibl', 'mgm', 'home', ...  \n",
       "6  ['mama', 'tanya', 'fievel', 'stop', 'twirl', '...  \n",
       "7  ['tale', 'aboutan', 'unprejud', 'heart', 'chan...  "
      ]
     },
     "execution_count": 56,
     "metadata": {},
     "output_type": "execute_result"
    }
   ],
   "source": [
    "df.head(8)"
   ]
  },
  {
   "cell_type": "code",
   "execution_count": 57,
   "id": "5de343cd",
   "metadata": {},
   "outputs": [],
   "source": [
    "df.drop(columns=['index']).to_csv('movie_data.csv', index=False)"
   ]
  },
  {
   "cell_type": "code",
   "execution_count": 58,
   "id": "104a94fc",
   "metadata": {},
   "outputs": [],
   "source": [
    "#df = pd.read_csv('movie_data.csv')  \n",
    "#df.head(8)"
   ]
  },
  {
   "cell_type": "markdown",
   "id": "c0b48b53",
   "metadata": {},
   "source": [
    "\n",
    "Теперь приступим к векторизации.\n",
    "\n",
    "Может быть так, что в предыдущих обработках какие-то слова испортились или в тексте встречаются опечатки, поэтому в качестве параметра векторизации возьму минимальное число документов, в которых встречается слово, - два."
   ]
  },
  {
   "cell_type": "code",
   "execution_count": 60,
   "id": "f08635a3",
   "metadata": {},
   "outputs": [],
   "source": [
    "count = CountVectorizer(min_df=2) #vocabulary=Mapping - рассмотреть этот параметр\n",
    "\n",
    "bag = count.fit_transform(df['Srt'])"
   ]
  },
  {
   "cell_type": "code",
   "execution_count": 61,
   "id": "b6cdd675",
   "metadata": {},
   "outputs": [],
   "source": [
    "tfidfconverter = TfidfTransformer(use_idf=True, norm='l2', smooth_idf=True)\n",
    "bag = tfidfconverter.fit_transform(bag).toarray()"
   ]
  },
  {
   "cell_type": "markdown",
   "id": "19ccd6bc",
   "metadata": {},
   "source": [
    "Преобразование из слов в цифры закончилось. Теперь эту матрицу надо соотнести с таргетом и построить на их основе модель предсказания.\n",
    "\n",
    "### Построение модели\n",
    "\n",
    "#### Обучающая и тестовая выборки\n",
    "\n",
    "Я собираюсь использовать кросс-валидацию, поэтому валидационная выборка  не нужна, только тестовая и обучающая.\n",
    "\n",
    "Разделю в соотношении 70/30."
   ]
  },
  {
   "cell_type": "code",
   "execution_count": 62,
   "id": "0d718cb7",
   "metadata": {},
   "outputs": [],
   "source": [
    "features = bag\n",
    "target = df['Level']"
   ]
  },
  {
   "cell_type": "code",
   "execution_count": 63,
   "id": "aff1cad0",
   "metadata": {},
   "outputs": [],
   "source": [
    "features_train, features_test, target_train, target_test = train_test_split(\n",
    "    features, target, test_size=0.3, random_state=RANDOM)"
   ]
  },
  {
   "cell_type": "code",
   "execution_count": 64,
   "id": "4f268d8b",
   "metadata": {},
   "outputs": [],
   "source": [
    "param_grid = {'penalty': ['l1','l2'],               \n",
    "              'solver': ['lbfgs', 'newton-cg'],              \n",
    "              'C': [1.0, 10.0, 100.0]}\n",
    "              \n",
    "\n",
    "model = LogisticRegression(random_state=RANDOM, n_jobs=1, multi_class='auto')\n",
    "\n",
    "gs= GridSearchCV(model, param_grid,\n",
    "                           scoring='accuracy',\n",
    "                           cv=5,\n",
    "                           verbose=1,\n",
    "                           n_jobs=-1)"
   ]
  },
  {
   "cell_type": "code",
   "execution_count": 65,
   "id": "11218f85",
   "metadata": {},
   "outputs": [
    {
     "name": "stdout",
     "output_type": "stream",
     "text": [
      "Fitting 5 folds for each of 12 candidates, totalling 60 fits\n"
     ]
    },
    {
     "data": {
      "text/html": [
       "<style>#sk-container-id-1 {color: black;}#sk-container-id-1 pre{padding: 0;}#sk-container-id-1 div.sk-toggleable {background-color: white;}#sk-container-id-1 label.sk-toggleable__label {cursor: pointer;display: block;width: 100%;margin-bottom: 0;padding: 0.3em;box-sizing: border-box;text-align: center;}#sk-container-id-1 label.sk-toggleable__label-arrow:before {content: \"▸\";float: left;margin-right: 0.25em;color: #696969;}#sk-container-id-1 label.sk-toggleable__label-arrow:hover:before {color: black;}#sk-container-id-1 div.sk-estimator:hover label.sk-toggleable__label-arrow:before {color: black;}#sk-container-id-1 div.sk-toggleable__content {max-height: 0;max-width: 0;overflow: hidden;text-align: left;background-color: #f0f8ff;}#sk-container-id-1 div.sk-toggleable__content pre {margin: 0.2em;color: black;border-radius: 0.25em;background-color: #f0f8ff;}#sk-container-id-1 input.sk-toggleable__control:checked~div.sk-toggleable__content {max-height: 200px;max-width: 100%;overflow: auto;}#sk-container-id-1 input.sk-toggleable__control:checked~label.sk-toggleable__label-arrow:before {content: \"▾\";}#sk-container-id-1 div.sk-estimator input.sk-toggleable__control:checked~label.sk-toggleable__label {background-color: #d4ebff;}#sk-container-id-1 div.sk-label input.sk-toggleable__control:checked~label.sk-toggleable__label {background-color: #d4ebff;}#sk-container-id-1 input.sk-hidden--visually {border: 0;clip: rect(1px 1px 1px 1px);clip: rect(1px, 1px, 1px, 1px);height: 1px;margin: -1px;overflow: hidden;padding: 0;position: absolute;width: 1px;}#sk-container-id-1 div.sk-estimator {font-family: monospace;background-color: #f0f8ff;border: 1px dotted black;border-radius: 0.25em;box-sizing: border-box;margin-bottom: 0.5em;}#sk-container-id-1 div.sk-estimator:hover {background-color: #d4ebff;}#sk-container-id-1 div.sk-parallel-item::after {content: \"\";width: 100%;border-bottom: 1px solid gray;flex-grow: 1;}#sk-container-id-1 div.sk-label:hover label.sk-toggleable__label {background-color: #d4ebff;}#sk-container-id-1 div.sk-serial::before {content: \"\";position: absolute;border-left: 1px solid gray;box-sizing: border-box;top: 0;bottom: 0;left: 50%;z-index: 0;}#sk-container-id-1 div.sk-serial {display: flex;flex-direction: column;align-items: center;background-color: white;padding-right: 0.2em;padding-left: 0.2em;position: relative;}#sk-container-id-1 div.sk-item {position: relative;z-index: 1;}#sk-container-id-1 div.sk-parallel {display: flex;align-items: stretch;justify-content: center;background-color: white;position: relative;}#sk-container-id-1 div.sk-item::before, #sk-container-id-1 div.sk-parallel-item::before {content: \"\";position: absolute;border-left: 1px solid gray;box-sizing: border-box;top: 0;bottom: 0;left: 50%;z-index: -1;}#sk-container-id-1 div.sk-parallel-item {display: flex;flex-direction: column;z-index: 1;position: relative;background-color: white;}#sk-container-id-1 div.sk-parallel-item:first-child::after {align-self: flex-end;width: 50%;}#sk-container-id-1 div.sk-parallel-item:last-child::after {align-self: flex-start;width: 50%;}#sk-container-id-1 div.sk-parallel-item:only-child::after {width: 0;}#sk-container-id-1 div.sk-dashed-wrapped {border: 1px dashed gray;margin: 0 0.4em 0.5em 0.4em;box-sizing: border-box;padding-bottom: 0.4em;background-color: white;}#sk-container-id-1 div.sk-label label {font-family: monospace;font-weight: bold;display: inline-block;line-height: 1.2em;}#sk-container-id-1 div.sk-label-container {text-align: center;}#sk-container-id-1 div.sk-container {/* jupyter's `normalize.less` sets `[hidden] { display: none; }` but bootstrap.min.css set `[hidden] { display: none !important; }` so we also need the `!important` here to be able to override the default hidden behavior on the sphinx rendered scikit-learn.org. See: https://github.com/scikit-learn/scikit-learn/issues/21755 */display: inline-block !important;position: relative;}#sk-container-id-1 div.sk-text-repr-fallback {display: none;}</style><div id=\"sk-container-id-1\" class=\"sk-top-container\"><div class=\"sk-text-repr-fallback\"><pre>GridSearchCV(cv=5, estimator=LogisticRegression(n_jobs=1, random_state=123),\n",
       "             n_jobs=-1,\n",
       "             param_grid={&#x27;C&#x27;: [1.0, 10.0, 100.0], &#x27;penalty&#x27;: [&#x27;l1&#x27;, &#x27;l2&#x27;],\n",
       "                         &#x27;solver&#x27;: [&#x27;lbfgs&#x27;, &#x27;newton-cg&#x27;]},\n",
       "             scoring=&#x27;accuracy&#x27;, verbose=1)</pre><b>In a Jupyter environment, please rerun this cell to show the HTML representation or trust the notebook. <br />On GitHub, the HTML representation is unable to render, please try loading this page with nbviewer.org.</b></div><div class=\"sk-container\" hidden><div class=\"sk-item sk-dashed-wrapped\"><div class=\"sk-label-container\"><div class=\"sk-label sk-toggleable\"><input class=\"sk-toggleable__control sk-hidden--visually\" id=\"sk-estimator-id-1\" type=\"checkbox\" ><label for=\"sk-estimator-id-1\" class=\"sk-toggleable__label sk-toggleable__label-arrow\">GridSearchCV</label><div class=\"sk-toggleable__content\"><pre>GridSearchCV(cv=5, estimator=LogisticRegression(n_jobs=1, random_state=123),\n",
       "             n_jobs=-1,\n",
       "             param_grid={&#x27;C&#x27;: [1.0, 10.0, 100.0], &#x27;penalty&#x27;: [&#x27;l1&#x27;, &#x27;l2&#x27;],\n",
       "                         &#x27;solver&#x27;: [&#x27;lbfgs&#x27;, &#x27;newton-cg&#x27;]},\n",
       "             scoring=&#x27;accuracy&#x27;, verbose=1)</pre></div></div></div><div class=\"sk-parallel\"><div class=\"sk-parallel-item\"><div class=\"sk-item\"><div class=\"sk-label-container\"><div class=\"sk-label sk-toggleable\"><input class=\"sk-toggleable__control sk-hidden--visually\" id=\"sk-estimator-id-2\" type=\"checkbox\" ><label for=\"sk-estimator-id-2\" class=\"sk-toggleable__label sk-toggleable__label-arrow\">estimator: LogisticRegression</label><div class=\"sk-toggleable__content\"><pre>LogisticRegression(n_jobs=1, random_state=123)</pre></div></div></div><div class=\"sk-serial\"><div class=\"sk-item\"><div class=\"sk-estimator sk-toggleable\"><input class=\"sk-toggleable__control sk-hidden--visually\" id=\"sk-estimator-id-3\" type=\"checkbox\" ><label for=\"sk-estimator-id-3\" class=\"sk-toggleable__label sk-toggleable__label-arrow\">LogisticRegression</label><div class=\"sk-toggleable__content\"><pre>LogisticRegression(n_jobs=1, random_state=123)</pre></div></div></div></div></div></div></div></div></div></div>"
      ],
      "text/plain": [
       "GridSearchCV(cv=5, estimator=LogisticRegression(n_jobs=1, random_state=123),\n",
       "             n_jobs=-1,\n",
       "             param_grid={'C': [1.0, 10.0, 100.0], 'penalty': ['l1', 'l2'],\n",
       "                         'solver': ['lbfgs', 'newton-cg']},\n",
       "             scoring='accuracy', verbose=1)"
      ]
     },
     "execution_count": 65,
     "metadata": {},
     "output_type": "execute_result"
    }
   ],
   "source": [
    "gs.fit(features_train, target_train)"
   ]
  },
  {
   "cell_type": "code",
   "execution_count": 66,
   "id": "9d5b9aa5",
   "metadata": {},
   "outputs": [
    {
     "name": "stdout",
     "output_type": "stream",
     "text": [
      "Best parameter set: {'C': 100.0, 'penalty': 'l2', 'solver': 'lbfgs'} \n",
      "CV Accuracy: 0.696\n"
     ]
    }
   ],
   "source": [
    "print('Best parameter set: %s ' % gs.best_params_)\n",
    "print('CV Accuracy: %.3f' % gs.best_score_)"
   ]
  },
  {
   "cell_type": "code",
   "execution_count": 67,
   "id": "37c335ce",
   "metadata": {},
   "outputs": [
    {
     "name": "stdout",
     "output_type": "stream",
     "text": [
      "Test Accuracy: 0.695\n"
     ]
    }
   ],
   "source": [
    "best_model = gs.best_estimator_\n",
    "print('Test Accuracy: %.3f' % best_model.score(features_test, target_test))"
   ]
  },
  {
   "cell_type": "code",
   "execution_count": 68,
   "id": "79e71da0",
   "metadata": {},
   "outputs": [
    {
     "data": {
      "text/html": [
       "<div>\n",
       "<style scoped>\n",
       "    .dataframe tbody tr th:only-of-type {\n",
       "        vertical-align: middle;\n",
       "    }\n",
       "\n",
       "    .dataframe tbody tr th {\n",
       "        vertical-align: top;\n",
       "    }\n",
       "\n",
       "    .dataframe thead th {\n",
       "        text-align: right;\n",
       "    }\n",
       "</style>\n",
       "<table border=\"1\" class=\"dataframe\">\n",
       "  <thead>\n",
       "    <tr style=\"text-align: right;\">\n",
       "      <th></th>\n",
       "      <th>index</th>\n",
       "      <th>Level_target</th>\n",
       "      <th>Level_pred</th>\n",
       "    </tr>\n",
       "  </thead>\n",
       "  <tbody>\n",
       "    <tr>\n",
       "      <th>41</th>\n",
       "      <td>157</td>\n",
       "      <td>B2</td>\n",
       "      <td>B2</td>\n",
       "    </tr>\n",
       "    <tr>\n",
       "      <th>79</th>\n",
       "      <td>218</td>\n",
       "      <td>C1</td>\n",
       "      <td>B2</td>\n",
       "    </tr>\n",
       "    <tr>\n",
       "      <th>51</th>\n",
       "      <td>251</td>\n",
       "      <td>B2</td>\n",
       "      <td>B2</td>\n",
       "    </tr>\n",
       "    <tr>\n",
       "      <th>37</th>\n",
       "      <td>258</td>\n",
       "      <td>B2</td>\n",
       "      <td>B1</td>\n",
       "    </tr>\n",
       "    <tr>\n",
       "      <th>53</th>\n",
       "      <td>236</td>\n",
       "      <td>B2</td>\n",
       "      <td>B2</td>\n",
       "    </tr>\n",
       "    <tr>\n",
       "      <th>14</th>\n",
       "      <td>29</td>\n",
       "      <td>B2</td>\n",
       "      <td>B2</td>\n",
       "    </tr>\n",
       "    <tr>\n",
       "      <th>17</th>\n",
       "      <td>239</td>\n",
       "      <td>B2</td>\n",
       "      <td>B2</td>\n",
       "    </tr>\n",
       "    <tr>\n",
       "      <th>42</th>\n",
       "      <td>72</td>\n",
       "      <td>B1</td>\n",
       "      <td>B2</td>\n",
       "    </tr>\n",
       "  </tbody>\n",
       "</table>\n",
       "</div>"
      ],
      "text/plain": [
       "    index Level_target Level_pred\n",
       "41    157           B2         B2\n",
       "79    218           C1         B2\n",
       "51    251           B2         B2\n",
       "37    258           B2         B1\n",
       "53    236           B2         B2\n",
       "14     29           B2         B2\n",
       "17    239           B2         B2\n",
       "42     72           B1         B2"
      ]
     },
     "execution_count": 68,
     "metadata": {},
     "output_type": "execute_result"
    }
   ],
   "source": [
    "predicted = best_model.predict(features_test)\n",
    "df_test = pd.DataFrame()\n",
    "df_test['Level_target'] = target_test\n",
    "df_test = df_test.reset_index()\n",
    "df_test['Level_pred'] = pd.Series(predicted)\n",
    "df_test.sample(8)"
   ]
  },
  {
   "cell_type": "markdown",
   "id": "bb927d0d",
   "metadata": {},
   "source": [
    "Можем увидеть, что модель худо-бедно предсказывает уровень сложности текста.\n",
    "\n",
    "Теперь надо собрать из этого нечто, чтоб любой входящий сырой текст довести до предсказания. "
   ]
  },
  {
   "cell_type": "code",
   "execution_count": 69,
   "id": "780c37bf",
   "metadata": {},
   "outputs": [],
   "source": [
    "import pickle"
   ]
  },
  {
   "cell_type": "code",
   "execution_count": 70,
   "id": "32bc4b1f",
   "metadata": {},
   "outputs": [],
   "source": [
    "pkl_filename = \"pickle_model.pkl\" \n",
    "with open(pkl_filename, 'wb') as file: \n",
    "    pickle.dump(best_model, file)"
   ]
  },
  {
   "cell_type": "code",
   "execution_count": null,
   "id": "ba7dc4f0",
   "metadata": {},
   "outputs": [],
   "source": [
    "# Кусочек для приложения - нужно перенести сюда векторизацию - как-то составить словарь фичей.\n",
    "\n",
    "  \n",
    "def preproc_subs():\n",
    "\n",
    "    stop = stopwords.words('english') + [\"i'm\"]\n",
    "\n",
    "    del_n = re.compile('\\n')                  # перенос каретки\n",
    "    del_tags = re.compile('<[^>]*>')          # html-теги\n",
    "    del_brackets = re.compile('\\([^)]*\\)')    # содержимое круглых скобок\n",
    "    clean_text = re.compile('[^а-яa-z\\s\\']')  # все небуквенные символы кроме пробелов и апострофов\n",
    "    del_spaces = re.compile('\\s{2,}')         \n",
    "\n",
    "    # Удаление символов\n",
    "    def prepare_text(text):\n",
    "        text = del_n.sub(' ', str(text).lower())\n",
    "        text = del_tags.sub('', text)\n",
    "        text = del_brackets.sub('', text)\n",
    "        res_text = clean_text.sub('', text)\n",
    "        res_text = res_text.lower()  #перевод в нижний регистр\n",
    "        return del_spaces.sub(' ',res_text)\n",
    "        \n",
    "    # Удаление стоп-слов с вызовом функции с удалением символов\n",
    "    def df_stop_words(Sr, stop):\n",
    "        for itm in range(len(Sr)):\n",
    "            line = Sr[itm]\n",
    "            line = prepare_text(line)\n",
    "            line = [w for w in line.split() if w not in stop]\n",
    "            Sr[itm] = line\n",
    "        return Sr    \n",
    "\n",
    "\n",
    "    # Лемматизация, поиск корней с вызовом функции удаления стоп-слов   \n",
    "    def lemmatise_srt(Sr, stop):\n",
    "        df_stop_words(Sr, stop)\n",
    "        stemmer = WordNetLemmatizer()\n",
    "        for itm in range(len(Sr)):\n",
    "            line = Sr[itm]\n",
    "            line = [stemmer.lemmatize(w) for w in line]\n",
    "            Sr[itm] =  str(line)\n",
    "        return Sr\n",
    "          \n",
    "\n",
    "    path = 'Dir' # Путь к папке, в которую будет загружаться клиентский файл субтитров   \n",
    "\n",
    "    df = pd.DataFrame(columns = ['Movie', 'Srt'])\n",
    "    # Данные на вход - файл субтитров\n",
    "    for file in os.listdir(path):\n",
    "        infile = pysrt.open(os.path.join(path, file), encoding='iso-8859-1') # пользуемся этим при указании пути в папку сфайлом, а что с одиночным файлом?\n",
    "        \n",
    "        txt = infile.text # чтение субтитра\n",
    "        df.loc[len(df)] = [file[:-4], txt]\n",
    "\n",
    "\n",
    "    df['Srt'] = lemmatise_srt(df['Srt'], stop) \n",
    "\n",
    "    # Векторизация\n",
    "    from sklearn.feature_extraction.text import CountVectorizer, TfidfTransformer\n",
    "\n",
    "    #count = CountVectorizer()\n",
    "    bag = count.transform(df['Srt'])\n",
    "    #tfidfconverter = TfidfTransformer(use_idf=True, norm='l2', smooth_idf=True)\n",
    "\n",
    "    bag = tfidfconverter.transform(bag).toarray() # преобразует текст в цифры\n",
    "\n",
    "    import pickle\n",
    "    with open('pickle_model.pkl', 'rb') as file: \n",
    "        model = pickle.load(file)\n",
    "        \n",
    "    # Предсказание уровня языка по субтитрам фильма\n",
    "\n",
    "    predicted = model.predict(bag)\n",
    "    df['Level_pred'] = pd.Series(predicted)\n",
    "    df.to_csv('answer.csv', index=False)\n",
    "\n",
    "\n",
    "\n",
    "\n",
    "preproc_subs()\n",
    "\n",
    "    \n",
    "\n",
    "\n"
   ]
  },
  {
   "cell_type": "code",
   "execution_count": null,
   "id": "b5cdb2a7",
   "metadata": {},
   "outputs": [],
   "source": []
  }
 ],
 "metadata": {
  "kernelspec": {
   "display_name": "Python 3 (ipykernel)",
   "language": "python",
   "name": "python3"
  },
  "language_info": {
   "codemirror_mode": {
    "name": "ipython",
    "version": 3
   },
   "file_extension": ".py",
   "mimetype": "text/x-python",
   "name": "python",
   "nbconvert_exporter": "python",
   "pygments_lexer": "ipython3",
   "version": "3.9.7"
  }
 },
 "nbformat": 4,
 "nbformat_minor": 5
}
