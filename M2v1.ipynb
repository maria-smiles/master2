{
 "cells": [
  {
   "cell_type": "markdown",
   "id": "d9a52069",
   "metadata": {},
   "source": [
    "### Постановка задачи\n",
    "\n",
    "Просмотр фильмов на оригинальном языке - это популярный и действенный метод обучения иностранным языкам. Важно выбрать фильм, который подходит студенту по уровню сложности, т.е. студент понимал бы 50-70 % диалогов. Чтобы выполнить это условие, преподаватель должен посмотреть фильм и решить, какому уровню он соответствует. Однако это требует больших временных затрат.\n",
    "\n",
    "Наша задача - разработать ML решение для автоматического определения уровня сложности англоязычных фильмов. \n",
    "\n",
    "Программа-максимум:\n",
    "\n",
    "           - языковая модель, \n",
    "           - веб-интерфейс,\n",
    "           - микросервис.  \n",
    "           \n",
    "### Знакомство с исходными данными\n",
    "\n",
    "В качестве исходных данных нам предоставлены размеченные по уровню сложности фильмы и субтитры к ним, словари английского языка с набором слов по уровню.\n",
    "\n",
    "Сначала взглянем на эти файлы, чтоб понять, как можно было бы с ними вообще работать."
   ]
  },
  {
   "cell_type": "code",
   "execution_count": 1,
   "id": "19763c4c",
   "metadata": {},
   "outputs": [],
   "source": [
    "import pysrt"
   ]
  },
  {
   "cell_type": "code",
   "execution_count": 2,
   "id": "704680e1",
   "metadata": {
    "scrolled": true
   },
   "outputs": [],
   "source": [
    "path_A2 = './English_level/English scores/Subtitles_all/A2/The Walking Dead-S01E01-Days Gone Bye.English.srt'"
   ]
  },
  {
   "cell_type": "code",
   "execution_count": 46,
   "id": "ae33812a",
   "metadata": {},
   "outputs": [],
   "source": [
    "subs = pysrt.open(path_A2)"
   ]
  },
  {
   "cell_type": "code",
   "execution_count": 47,
   "id": "1f5036b9",
   "metadata": {},
   "outputs": [
    {
     "data": {
      "text/plain": [
       "673"
      ]
     },
     "execution_count": 47,
     "metadata": {},
     "output_type": "execute_result"
    }
   ],
   "source": [
    "len(subs)"
   ]
  },
  {
   "cell_type": "code",
   "execution_count": 48,
   "id": "7efc7bb7",
   "metadata": {
    "scrolled": true
   },
   "outputs": [
    {
     "name": "stdout",
     "output_type": "stream",
     "text": [
      "1\n",
      "00:00:03,169 --> 00:00:05,171\n",
      "( bugs chittering )\n",
      "\n",
      "51\n",
      "00:06:24,376 --> 00:06:27,045\n",
      "- And what do you say to that?\n",
      "- I know what I want to say.\n",
      "\n",
      "101\n",
      "00:09:19,207 --> 00:09:22,085 X1:0\n",
      "Dispatcher:\n",
      "Unit 1, unit 3, to eastbound Route 18,\n",
      "\n",
      "151\n",
      "00:12:53,996 --> 00:12:56,332\n",
      "Shh shh. That's it. Do you hear me?\n",
      "Shh shh shh. Okay.\n",
      "\n",
      "201\n",
      "00:20:23,438 --> 00:20:25,440\n",
      "( bugs chittering )\n",
      "\n",
      "251\n",
      "00:28:20,153 --> 00:28:23,030\n",
      "Take a moment,\n",
      "look how sharp it is.\n",
      "\n",
      "301\n",
      "00:31:39,304 --> 00:31:40,388\n",
      "Yeah.\n",
      "\n",
      "351\n",
      "00:34:22,709 --> 00:34:26,086\n",
      "Man: Don't look.\n",
      "Get away from the windows.\n",
      "\n",
      "401\n",
      "00:38:37,536 --> 00:38:39,705\n",
      "That's right.\n",
      "\n",
      "451\n",
      "00:41:46,000 --> 00:41:47,835\n",
      "Conserve your ammo.\n",
      "\n",
      "501\n",
      "00:47:57,069 --> 00:47:59,071\n",
      "( growling )\n",
      "\n",
      "551\n",
      "00:52:00,594 --> 00:52:02,429\n",
      "You're all right.\n",
      "Go on. You're all right.\n",
      "\n",
      "601\n",
      "00:57:15,775 --> 00:57:17,485\n",
      "Good boy.\n",
      "\n",
      "651\n",
      "01:05:33,926 --> 01:05:36,595\n",
      "♪ Of the place I know so well ♪\n",
      "\n"
     ]
    }
   ],
   "source": [
    "for i in range(0, len(subs), 50):\n",
    "    print(subs[i])"
   ]
  },
  {
   "cell_type": "markdown",
   "id": "1f2e17b3",
   "metadata": {},
   "source": [
    "Чтобы проанализировать слова, нужно из этой структуры убрать тайминг, нумерацию кадров (видимо, это строки, потому что их количество равно длине файла с субтитрами), убрать слова в скобках, потому что в задаче запрос на понимание диалогов, а в скобках не диалоги, убрать знаки препинания и цифры, привести к нижнему регистру."
   ]
  },
  {
   "cell_type": "markdown",
   "id": "5e8ca7c3",
   "metadata": {},
   "source": [
    "### Создание единого датасета из предложенных данных"
   ]
  },
  {
   "cell_type": "code",
   "execution_count": 6,
   "id": "1c3467b7",
   "metadata": {},
   "outputs": [],
   "source": [
    "#import pyprind\n",
    "import pandas as pd\n",
    "import os\n",
    "\n",
    "\n",
    "basepath = './English_level/English scores/Subtitles_all/'\n",
    "\n",
    "df_1 = pd.DataFrame(columns = ['Movie', 'Level', 'Srt'])\n",
    "\n",
    "\n",
    "for s in ('A2', 'B1', 'B2', 'C1'):\n",
    "    \n",
    "    path = os.path.join(basepath, s)\n",
    "    \n",
    "    for file in os.listdir(path):\n",
    "        \n",
    "        with open(os.path.join(path, file), 'r', encoding='ISO-8859-1') as infile:\n",
    "            txt = infile.read()\n",
    "            \n",
    "        df_1.loc[len(df_1)] = [file[:-4], s, txt]\n",
    "        \n",
    "#df_1.columns = ['Movie', 'Level', 'Srt']"
   ]
  },
  {
   "cell_type": "code",
   "execution_count": 7,
   "id": "eb5c5287",
   "metadata": {
    "scrolled": true
   },
   "outputs": [
    {
     "data": {
      "text/html": [
       "<div>\n",
       "<style scoped>\n",
       "    .dataframe tbody tr th:only-of-type {\n",
       "        vertical-align: middle;\n",
       "    }\n",
       "\n",
       "    .dataframe tbody tr th {\n",
       "        vertical-align: top;\n",
       "    }\n",
       "\n",
       "    .dataframe thead th {\n",
       "        text-align: right;\n",
       "    }\n",
       "</style>\n",
       "<table border=\"1\" class=\"dataframe\">\n",
       "  <thead>\n",
       "    <tr style=\"text-align: right;\">\n",
       "      <th></th>\n",
       "      <th>Movie</th>\n",
       "      <th>Level</th>\n",
       "      <th>Srt</th>\n",
       "    </tr>\n",
       "  </thead>\n",
       "  <tbody>\n",
       "    <tr>\n",
       "      <th>0</th>\n",
       "      <td>The Walking Dead-S01E01-Days Gone Bye.English</td>\n",
       "      <td>A2</td>\n",
       "      <td>1\\n00:00:03,169 --&gt; 00:00:05,171\\n( bugs chitt...</td>\n",
       "    </tr>\n",
       "    <tr>\n",
       "      <th>1</th>\n",
       "      <td>The Walking Dead-S01E02-Guts.English</td>\n",
       "      <td>A2</td>\n",
       "      <td>1\\n00:00:03,045 --&gt; 00:00:05,047\\n- ( birds ch...</td>\n",
       "    </tr>\n",
       "    <tr>\n",
       "      <th>2</th>\n",
       "      <td>The Walking Dead-S01E03-Tell It To The Frogs.E...</td>\n",
       "      <td>A2</td>\n",
       "      <td>1\\n00:00:03,003 --&gt; 00:00:04,671\\n( thunder ru...</td>\n",
       "    </tr>\n",
       "    <tr>\n",
       "      <th>3</th>\n",
       "      <td>The Walking Dead-S01E04-Vatos.English</td>\n",
       "      <td>A2</td>\n",
       "      <td>1\\n00:00:03,045 --&gt; 00:00:05,422\\n( birds chir...</td>\n",
       "    </tr>\n",
       "    <tr>\n",
       "      <th>4</th>\n",
       "      <td>The Walking Dead-S01E05-Wildfire.English</td>\n",
       "      <td>A2</td>\n",
       "      <td>1\\n00:00:03,420 --&gt; 00:00:04,922\\n- ( walkie-t...</td>\n",
       "    </tr>\n",
       "    <tr>\n",
       "      <th>...</th>\n",
       "      <td>...</td>\n",
       "      <td>...</td>\n",
       "      <td>...</td>\n",
       "    </tr>\n",
       "    <tr>\n",
       "      <th>158</th>\n",
       "      <td>Suits.S03E06.720p.HDTV.x264-mSD</td>\n",
       "      <td>C1</td>\n",
       "      <td>ï»¿1\\n00:00:01,383 --&gt; 00:00:02,751\\nI lost Av...</td>\n",
       "    </tr>\n",
       "    <tr>\n",
       "      <th>159</th>\n",
       "      <td>Suits.S03E07.HDTV.x264-mSD</td>\n",
       "      <td>C1</td>\n",
       "      <td>ï»¿1\\n00:00:00,052 --&gt; 00:00:01,352\\nPreviousl...</td>\n",
       "    </tr>\n",
       "    <tr>\n",
       "      <th>160</th>\n",
       "      <td>Suits.S03E08.480p.HDTV.x264-mSD</td>\n",
       "      <td>C1</td>\n",
       "      <td>ï»¿1\\n00:00:01,436 --&gt; 00:00:03,028\\nI get Ava...</td>\n",
       "    </tr>\n",
       "    <tr>\n",
       "      <th>161</th>\n",
       "      <td>Suits.S03E09.480p.HDTV.x264-mSD</td>\n",
       "      <td>C1</td>\n",
       "      <td>ï»¿1\\n00:00:00,024 --&gt; 00:00:01,478\\nPreviousl...</td>\n",
       "    </tr>\n",
       "    <tr>\n",
       "      <th>162</th>\n",
       "      <td>Suits.S03E10.HDTV.x264-mSD</td>\n",
       "      <td>C1</td>\n",
       "      <td>ï»¿1\\n00:00:00,015 --&gt; 00:00:01,196\\nPreviousl...</td>\n",
       "    </tr>\n",
       "  </tbody>\n",
       "</table>\n",
       "<p>163 rows × 3 columns</p>\n",
       "</div>"
      ],
      "text/plain": [
       "                                                 Movie Level  \\\n",
       "0        The Walking Dead-S01E01-Days Gone Bye.English    A2   \n",
       "1                 The Walking Dead-S01E02-Guts.English    A2   \n",
       "2    The Walking Dead-S01E03-Tell It To The Frogs.E...    A2   \n",
       "3                The Walking Dead-S01E04-Vatos.English    A2   \n",
       "4             The Walking Dead-S01E05-Wildfire.English    A2   \n",
       "..                                                 ...   ...   \n",
       "158                    Suits.S03E06.720p.HDTV.x264-mSD    C1   \n",
       "159                         Suits.S03E07.HDTV.x264-mSD    C1   \n",
       "160                    Suits.S03E08.480p.HDTV.x264-mSD    C1   \n",
       "161                    Suits.S03E09.480p.HDTV.x264-mSD    C1   \n",
       "162                         Suits.S03E10.HDTV.x264-mSD    C1   \n",
       "\n",
       "                                                   Srt  \n",
       "0    1\\n00:00:03,169 --> 00:00:05,171\\n( bugs chitt...  \n",
       "1    1\\n00:00:03,045 --> 00:00:05,047\\n- ( birds ch...  \n",
       "2    1\\n00:00:03,003 --> 00:00:04,671\\n( thunder ru...  \n",
       "3    1\\n00:00:03,045 --> 00:00:05,422\\n( birds chir...  \n",
       "4    1\\n00:00:03,420 --> 00:00:04,922\\n- ( walkie-t...  \n",
       "..                                                 ...  \n",
       "158  ï»¿1\\n00:00:01,383 --> 00:00:02,751\\nI lost Av...  \n",
       "159  ï»¿1\\n00:00:00,052 --> 00:00:01,352\\nPreviousl...  \n",
       "160  ï»¿1\\n00:00:01,436 --> 00:00:03,028\\nI get Ava...  \n",
       "161  ï»¿1\\n00:00:00,024 --> 00:00:01,478\\nPreviousl...  \n",
       "162  ï»¿1\\n00:00:00,015 --> 00:00:01,196\\nPreviousl...  \n",
       "\n",
       "[163 rows x 3 columns]"
      ]
     },
     "metadata": {},
     "output_type": "display_data"
    }
   ],
   "source": [
    "display(df_1)"
   ]
  },
  {
   "cell_type": "markdown",
   "id": "5a8ac99f",
   "metadata": {},
   "source": [
    "В первой таблице, собранной из данных папки заказчика с распределением субтитров по уровню языка,  у нас есть полный набор данных - название фильма, его рейтинг, текст субтитров."
   ]
  },
  {
   "cell_type": "code",
   "execution_count": 8,
   "id": "43635687",
   "metadata": {},
   "outputs": [],
   "source": [
    "#pbar = pyprind.ProgBar(50000)\n",
    "df_2 = pd.DataFrame(columns = ['Movie', 'Srt'])\n",
    "path = os.path.join(basepath, 'Subtitles')\n",
    "for file in os.listdir(path):\n",
    "    if file!='.DS_Store':\n",
    "        #print(file)\n",
    "        with open(os.path.join(path, file), 'r', encoding='ISO-8859-1') as infile:\n",
    "            txt = infile.read()\n",
    "        df_2.loc[len(df_2)] = [file[:-4], txt]\n",
    "        #pbar.update()\n",
    "#df_2.columns = ['Movie', 'Srt']"
   ]
  },
  {
   "cell_type": "code",
   "execution_count": 9,
   "id": "374a7c10",
   "metadata": {
    "scrolled": true
   },
   "outputs": [
    {
     "data": {
      "text/html": [
       "<div>\n",
       "<style scoped>\n",
       "    .dataframe tbody tr th:only-of-type {\n",
       "        vertical-align: middle;\n",
       "    }\n",
       "\n",
       "    .dataframe tbody tr th {\n",
       "        vertical-align: top;\n",
       "    }\n",
       "\n",
       "    .dataframe thead th {\n",
       "        text-align: right;\n",
       "    }\n",
       "</style>\n",
       "<table border=\"1\" class=\"dataframe\">\n",
       "  <thead>\n",
       "    <tr style=\"text-align: right;\">\n",
       "      <th></th>\n",
       "      <th>Movie</th>\n",
       "      <th>Srt</th>\n",
       "    </tr>\n",
       "  </thead>\n",
       "  <tbody>\n",
       "    <tr>\n",
       "      <th>0</th>\n",
       "      <td>10_Cloverfield_lane(2016)</td>\n",
       "      <td>1\\n00:00:55,279 --&gt; 00:01:07,279\\n&lt;font color=...</td>\n",
       "    </tr>\n",
       "    <tr>\n",
       "      <th>1</th>\n",
       "      <td>10_things_I_hate_about_you(1999)</td>\n",
       "      <td>1\\n00:01:54,281 --&gt; 00:01:55,698\\nHey!\\n\\n2\\n0...</td>\n",
       "    </tr>\n",
       "    <tr>\n",
       "      <th>2</th>\n",
       "      <td>Aladdin(1992)</td>\n",
       "      <td>1\\n00:00:27,240 --&gt; 00:00:30,879\\n&lt;i&gt;Oh, I com...</td>\n",
       "    </tr>\n",
       "    <tr>\n",
       "      <th>3</th>\n",
       "      <td>All_dogs_go_to_heaven(1989)</td>\n",
       "      <td>1\\n00:00:12,319 --&gt; 00:00:14,821\\nCAPTIONING M...</td>\n",
       "    </tr>\n",
       "    <tr>\n",
       "      <th>4</th>\n",
       "      <td>An_American_tail(1986)</td>\n",
       "      <td>ï»¿1\\n00:02:24,080 --&gt; 00:02:26,528\\n(INDISTIN...</td>\n",
       "    </tr>\n",
       "    <tr>\n",
       "      <th>...</th>\n",
       "      <td>...</td>\n",
       "      <td>...</td>\n",
       "    </tr>\n",
       "    <tr>\n",
       "      <th>110</th>\n",
       "      <td>Warm_bodies(2013)</td>\n",
       "      <td>2\\n00:00:26,559 --&gt; 00:00:28,627\\n&lt;i&gt;What am I...</td>\n",
       "    </tr>\n",
       "    <tr>\n",
       "      <th>111</th>\n",
       "      <td>Westworld_scenes_of_Dr_Robert_Ford</td>\n",
       "      <td>1\\n00:00:00,000 --&gt; 00:00:21,179\\n[Music]\\n\\n2...</td>\n",
       "    </tr>\n",
       "    <tr>\n",
       "      <th>112</th>\n",
       "      <td>We_are_the_Millers(2013)</td>\n",
       "      <td>1\\n00:00:02,400 --&gt; 00:00:03,731\\n&lt;i&gt;Oh, my Go...</td>\n",
       "    </tr>\n",
       "    <tr>\n",
       "      <th>113</th>\n",
       "      <td>While_You_Were_Sleeping(1995)</td>\n",
       "      <td>1\\n00:02:20,760 --&gt; 00:02:24,720\\nLUCY: &lt;i&gt;Oka...</td>\n",
       "    </tr>\n",
       "    <tr>\n",
       "      <th>114</th>\n",
       "      <td>Zootopia(2016)</td>\n",
       "      <td>ï»¿1\\n00:01:00,840 --&gt; 00:01:06,370\\nFear. Tre...</td>\n",
       "    </tr>\n",
       "  </tbody>\n",
       "</table>\n",
       "<p>115 rows × 2 columns</p>\n",
       "</div>"
      ],
      "text/plain": [
       "                                  Movie  \\\n",
       "0             10_Cloverfield_lane(2016)   \n",
       "1      10_things_I_hate_about_you(1999)   \n",
       "2                         Aladdin(1992)   \n",
       "3           All_dogs_go_to_heaven(1989)   \n",
       "4                An_American_tail(1986)   \n",
       "..                                  ...   \n",
       "110                   Warm_bodies(2013)   \n",
       "111  Westworld_scenes_of_Dr_Robert_Ford   \n",
       "112            We_are_the_Millers(2013)   \n",
       "113       While_You_Were_Sleeping(1995)   \n",
       "114                      Zootopia(2016)   \n",
       "\n",
       "                                                   Srt  \n",
       "0    1\\n00:00:55,279 --> 00:01:07,279\\n<font color=...  \n",
       "1    1\\n00:01:54,281 --> 00:01:55,698\\nHey!\\n\\n2\\n0...  \n",
       "2    1\\n00:00:27,240 --> 00:00:30,879\\n<i>Oh, I com...  \n",
       "3    1\\n00:00:12,319 --> 00:00:14,821\\nCAPTIONING M...  \n",
       "4    ï»¿1\\n00:02:24,080 --> 00:02:26,528\\n(INDISTIN...  \n",
       "..                                                 ...  \n",
       "110  2\\n00:00:26,559 --> 00:00:28,627\\n<i>What am I...  \n",
       "111  1\\n00:00:00,000 --> 00:00:21,179\\n[Music]\\n\\n2...  \n",
       "112  1\\n00:00:02,400 --> 00:00:03,731\\n<i>Oh, my Go...  \n",
       "113  1\\n00:02:20,760 --> 00:02:24,720\\nLUCY: <i>Oka...  \n",
       "114  ï»¿1\\n00:01:00,840 --> 00:01:06,370\\nFear. Tre...  \n",
       "\n",
       "[115 rows x 2 columns]"
      ]
     },
     "metadata": {},
     "output_type": "display_data"
    }
   ],
   "source": [
    "display(df_2)"
   ]
  },
  {
   "cell_type": "markdown",
   "id": "9da77310",
   "metadata": {},
   "source": [
    "Во второй таблице, тоже собранной из данных файлов в папке заказчика, но другой, не размеченной по уровню языка, есть названия фильмов и текст субтитров."
   ]
  },
  {
   "cell_type": "code",
   "execution_count": 10,
   "id": "079ea6d5",
   "metadata": {},
   "outputs": [],
   "source": [
    "df_3 = pd.read_excel('./English_level/English scores/movies_labels.xlsx')"
   ]
  },
  {
   "cell_type": "code",
   "execution_count": 11,
   "id": "29b2286a",
   "metadata": {},
   "outputs": [
    {
     "data": {
      "text/html": [
       "<div>\n",
       "<style scoped>\n",
       "    .dataframe tbody tr th:only-of-type {\n",
       "        vertical-align: middle;\n",
       "    }\n",
       "\n",
       "    .dataframe tbody tr th {\n",
       "        vertical-align: top;\n",
       "    }\n",
       "\n",
       "    .dataframe thead th {\n",
       "        text-align: right;\n",
       "    }\n",
       "</style>\n",
       "<table border=\"1\" class=\"dataframe\">\n",
       "  <thead>\n",
       "    <tr style=\"text-align: right;\">\n",
       "      <th></th>\n",
       "      <th>id</th>\n",
       "      <th>Movie</th>\n",
       "      <th>Level</th>\n",
       "    </tr>\n",
       "  </thead>\n",
       "  <tbody>\n",
       "    <tr>\n",
       "      <th>0</th>\n",
       "      <td>0</td>\n",
       "      <td>10_Cloverfield_lane(2016)</td>\n",
       "      <td>B1</td>\n",
       "    </tr>\n",
       "    <tr>\n",
       "      <th>1</th>\n",
       "      <td>1</td>\n",
       "      <td>10_things_I_hate_about_you(1999)</td>\n",
       "      <td>B1</td>\n",
       "    </tr>\n",
       "    <tr>\n",
       "      <th>2</th>\n",
       "      <td>2</td>\n",
       "      <td>A_knights_tale(2001)</td>\n",
       "      <td>B2</td>\n",
       "    </tr>\n",
       "    <tr>\n",
       "      <th>3</th>\n",
       "      <td>3</td>\n",
       "      <td>A_star_is_born(2018)</td>\n",
       "      <td>B2</td>\n",
       "    </tr>\n",
       "    <tr>\n",
       "      <th>4</th>\n",
       "      <td>4</td>\n",
       "      <td>Aladdin(1992)</td>\n",
       "      <td>A2/A2+</td>\n",
       "    </tr>\n",
       "    <tr>\n",
       "      <th>...</th>\n",
       "      <td>...</td>\n",
       "      <td>...</td>\n",
       "      <td>...</td>\n",
       "    </tr>\n",
       "    <tr>\n",
       "      <th>236</th>\n",
       "      <td>236</td>\n",
       "      <td>Matilda(2022)</td>\n",
       "      <td>C1</td>\n",
       "    </tr>\n",
       "    <tr>\n",
       "      <th>237</th>\n",
       "      <td>237</td>\n",
       "      <td>Bullet train</td>\n",
       "      <td>B1</td>\n",
       "    </tr>\n",
       "    <tr>\n",
       "      <th>238</th>\n",
       "      <td>238</td>\n",
       "      <td>Thor: love and thunder</td>\n",
       "      <td>B2</td>\n",
       "    </tr>\n",
       "    <tr>\n",
       "      <th>239</th>\n",
       "      <td>239</td>\n",
       "      <td>Lightyear</td>\n",
       "      <td>B2</td>\n",
       "    </tr>\n",
       "    <tr>\n",
       "      <th>240</th>\n",
       "      <td>240</td>\n",
       "      <td>The Grinch</td>\n",
       "      <td>B1</td>\n",
       "    </tr>\n",
       "  </tbody>\n",
       "</table>\n",
       "<p>241 rows × 3 columns</p>\n",
       "</div>"
      ],
      "text/plain": [
       "      id                             Movie   Level\n",
       "0      0         10_Cloverfield_lane(2016)      B1\n",
       "1      1  10_things_I_hate_about_you(1999)      B1\n",
       "2      2              A_knights_tale(2001)      B2\n",
       "3      3              A_star_is_born(2018)      B2\n",
       "4      4                     Aladdin(1992)  A2/A2+\n",
       "..   ...                               ...     ...\n",
       "236  236                     Matilda(2022)      C1\n",
       "237  237                      Bullet train      B1\n",
       "238  238            Thor: love and thunder      B2\n",
       "239  239                         Lightyear      B2\n",
       "240  240                        The Grinch      B1\n",
       "\n",
       "[241 rows x 3 columns]"
      ]
     },
     "metadata": {},
     "output_type": "display_data"
    }
   ],
   "source": [
    "display(df_3)"
   ]
  },
  {
   "cell_type": "code",
   "execution_count": 12,
   "id": "a891786f",
   "metadata": {},
   "outputs": [
    {
     "data": {
      "text/html": [
       "<div>\n",
       "<style scoped>\n",
       "    .dataframe tbody tr th:only-of-type {\n",
       "        vertical-align: middle;\n",
       "    }\n",
       "\n",
       "    .dataframe tbody tr th {\n",
       "        vertical-align: top;\n",
       "    }\n",
       "\n",
       "    .dataframe thead th {\n",
       "        text-align: right;\n",
       "    }\n",
       "</style>\n",
       "<table border=\"1\" class=\"dataframe\">\n",
       "  <thead>\n",
       "    <tr style=\"text-align: right;\">\n",
       "      <th></th>\n",
       "      <th>Movie</th>\n",
       "      <th>Level</th>\n",
       "    </tr>\n",
       "  </thead>\n",
       "  <tbody>\n",
       "    <tr>\n",
       "      <th>0</th>\n",
       "      <td>10_Cloverfield_lane(2016)</td>\n",
       "      <td>B1</td>\n",
       "    </tr>\n",
       "    <tr>\n",
       "      <th>1</th>\n",
       "      <td>10_things_I_hate_about_you(1999)</td>\n",
       "      <td>B1</td>\n",
       "    </tr>\n",
       "    <tr>\n",
       "      <th>2</th>\n",
       "      <td>A_knights_tale(2001)</td>\n",
       "      <td>B2</td>\n",
       "    </tr>\n",
       "    <tr>\n",
       "      <th>3</th>\n",
       "      <td>A_star_is_born(2018)</td>\n",
       "      <td>B2</td>\n",
       "    </tr>\n",
       "    <tr>\n",
       "      <th>4</th>\n",
       "      <td>Aladdin(1992)</td>\n",
       "      <td>A2/A2+</td>\n",
       "    </tr>\n",
       "    <tr>\n",
       "      <th>...</th>\n",
       "      <td>...</td>\n",
       "      <td>...</td>\n",
       "    </tr>\n",
       "    <tr>\n",
       "      <th>236</th>\n",
       "      <td>Matilda(2022)</td>\n",
       "      <td>C1</td>\n",
       "    </tr>\n",
       "    <tr>\n",
       "      <th>237</th>\n",
       "      <td>Bullet train</td>\n",
       "      <td>B1</td>\n",
       "    </tr>\n",
       "    <tr>\n",
       "      <th>238</th>\n",
       "      <td>Thor: love and thunder</td>\n",
       "      <td>B2</td>\n",
       "    </tr>\n",
       "    <tr>\n",
       "      <th>239</th>\n",
       "      <td>Lightyear</td>\n",
       "      <td>B2</td>\n",
       "    </tr>\n",
       "    <tr>\n",
       "      <th>240</th>\n",
       "      <td>The Grinch</td>\n",
       "      <td>B1</td>\n",
       "    </tr>\n",
       "  </tbody>\n",
       "</table>\n",
       "<p>241 rows × 2 columns</p>\n",
       "</div>"
      ],
      "text/plain": [
       "                                Movie   Level\n",
       "0           10_Cloverfield_lane(2016)      B1\n",
       "1    10_things_I_hate_about_you(1999)      B1\n",
       "2                A_knights_tale(2001)      B2\n",
       "3                A_star_is_born(2018)      B2\n",
       "4                       Aladdin(1992)  A2/A2+\n",
       "..                                ...     ...\n",
       "236                     Matilda(2022)      C1\n",
       "237                      Bullet train      B1\n",
       "238            Thor: love and thunder      B2\n",
       "239                         Lightyear      B2\n",
       "240                        The Grinch      B1\n",
       "\n",
       "[241 rows x 2 columns]"
      ]
     },
     "execution_count": 12,
     "metadata": {},
     "output_type": "execute_result"
    }
   ],
   "source": [
    "df_3.drop(columns='id', axis=1)"
   ]
  },
  {
   "cell_type": "markdown",
   "id": "cfa31f70",
   "metadata": {},
   "source": [
    "В третьей таблице, предоставленной самим заказчиком, есть названия фильмов и уровень языка.\n",
    "\n",
    "Теперь нам предстоит объединить эти данные в одну таблицу.\n",
    "\n",
    "Столбцом для объединения точно будет название фильма. Объединение df_3 с df_2 не составит труда."
   ]
  },
  {
   "cell_type": "code",
   "execution_count": 13,
   "id": "b035cb65",
   "metadata": {},
   "outputs": [],
   "source": [
    "df_2_3 = df_3.merge(df_2, on='Movie', how='outer').drop(columns='id')"
   ]
  },
  {
   "cell_type": "code",
   "execution_count": 14,
   "id": "004bbeff",
   "metadata": {},
   "outputs": [
    {
     "data": {
      "text/plain": [
       "250"
      ]
     },
     "execution_count": 14,
     "metadata": {},
     "output_type": "execute_result"
    }
   ],
   "source": [
    "len(df_2_3)"
   ]
  },
  {
   "cell_type": "code",
   "execution_count": 15,
   "id": "bd40a7ff",
   "metadata": {},
   "outputs": [
    {
     "data": {
      "text/plain": [
       "115"
      ]
     },
     "execution_count": 15,
     "metadata": {},
     "output_type": "execute_result"
    }
   ],
   "source": [
    "len(df_2)"
   ]
  },
  {
   "cell_type": "code",
   "execution_count": 16,
   "id": "cb3233b3",
   "metadata": {},
   "outputs": [
    {
     "data": {
      "text/plain": [
       "241"
      ]
     },
     "execution_count": 16,
     "metadata": {},
     "output_type": "execute_result"
    }
   ],
   "source": [
    "len(df_3)"
   ]
  },
  {
   "cell_type": "code",
   "execution_count": 17,
   "id": "bada08f1",
   "metadata": {},
   "outputs": [
    {
     "data": {
      "text/plain": [
       "Movie      0\n",
       "Level      9\n",
       "Srt      131\n",
       "dtype: int64"
      ]
     },
     "execution_count": 17,
     "metadata": {},
     "output_type": "execute_result"
    }
   ],
   "source": [
    "df_2_3.isna().sum()"
   ]
  },
  {
   "cell_type": "code",
   "execution_count": 18,
   "id": "f30d0b59",
   "metadata": {},
   "outputs": [
    {
     "data": {
      "text/html": [
       "<div>\n",
       "<style scoped>\n",
       "    .dataframe tbody tr th:only-of-type {\n",
       "        vertical-align: middle;\n",
       "    }\n",
       "\n",
       "    .dataframe tbody tr th {\n",
       "        vertical-align: top;\n",
       "    }\n",
       "\n",
       "    .dataframe thead th {\n",
       "        text-align: right;\n",
       "    }\n",
       "</style>\n",
       "<table border=\"1\" class=\"dataframe\">\n",
       "  <thead>\n",
       "    <tr style=\"text-align: right;\">\n",
       "      <th></th>\n",
       "      <th>Movie</th>\n",
       "      <th>Level</th>\n",
       "      <th>Srt</th>\n",
       "    </tr>\n",
       "  </thead>\n",
       "  <tbody>\n",
       "    <tr>\n",
       "      <th>125</th>\n",
       "      <td>Seven.Worlds.One.Planet.S01E02.2160p.BluRay.Re...</td>\n",
       "      <td>B1</td>\n",
       "      <td>NaN</td>\n",
       "    </tr>\n",
       "    <tr>\n",
       "      <th>140</th>\n",
       "      <td>Crazy4TV.com - Suits.S06E05.720p.BluRay.x265.H...</td>\n",
       "      <td>B2</td>\n",
       "      <td>NaN</td>\n",
       "    </tr>\n",
       "    <tr>\n",
       "      <th>169</th>\n",
       "      <td>Suits.Episode 7- Hitting Home</td>\n",
       "      <td>B2</td>\n",
       "      <td>NaN</td>\n",
       "    </tr>\n",
       "    <tr>\n",
       "      <th>14</th>\n",
       "      <td>Before_sunset(2004)</td>\n",
       "      <td>B1, B2</td>\n",
       "      <td>1\\n00:00:05,000 --&gt; 00:00:15,000\\nCreated and ...</td>\n",
       "    </tr>\n",
       "    <tr>\n",
       "      <th>186</th>\n",
       "      <td>Suits.S02E03.HDTV.x264-ASAP</td>\n",
       "      <td>B2</td>\n",
       "      <td>NaN</td>\n",
       "    </tr>\n",
       "    <tr>\n",
       "      <th>67</th>\n",
       "      <td>Pirates_of_the_Caribbean(2003)</td>\n",
       "      <td>B1</td>\n",
       "      <td>1\\n00:00:29,409 --&gt; 00:00:33,697\\n&lt;i&gt;Drink up,...</td>\n",
       "    </tr>\n",
       "    <tr>\n",
       "      <th>109</th>\n",
       "      <td>We_are_the_Millers(2013)</td>\n",
       "      <td>B1</td>\n",
       "      <td>1\\n00:00:02,400 --&gt; 00:00:03,731\\n&lt;i&gt;Oh, my Go...</td>\n",
       "    </tr>\n",
       "    <tr>\n",
       "      <th>137</th>\n",
       "      <td>Crazy4TV.com - Suits.S06E02.720p.BluRay.x265.H...</td>\n",
       "      <td>B2</td>\n",
       "      <td>NaN</td>\n",
       "    </tr>\n",
       "    <tr>\n",
       "      <th>38</th>\n",
       "      <td>Powder(1995)</td>\n",
       "      <td>B1</td>\n",
       "      <td>1\\n00:01:19,208 --&gt; 00:01:20,333\\nEMT 1:\\nAll ...</td>\n",
       "    </tr>\n",
       "    <tr>\n",
       "      <th>209</th>\n",
       "      <td>Suits S04E01 EngSub</td>\n",
       "      <td>C1</td>\n",
       "      <td>NaN</td>\n",
       "    </tr>\n",
       "  </tbody>\n",
       "</table>\n",
       "</div>"
      ],
      "text/plain": [
       "                                                 Movie   Level  \\\n",
       "125  Seven.Worlds.One.Planet.S01E02.2160p.BluRay.Re...      B1   \n",
       "140  Crazy4TV.com - Suits.S06E05.720p.BluRay.x265.H...      B2   \n",
       "169                      Suits.Episode 7- Hitting Home      B2   \n",
       "14                                 Before_sunset(2004)  B1, B2   \n",
       "186                        Suits.S02E03.HDTV.x264-ASAP      B2   \n",
       "67                      Pirates_of_the_Caribbean(2003)      B1   \n",
       "109                           We_are_the_Millers(2013)      B1   \n",
       "137  Crazy4TV.com - Suits.S06E02.720p.BluRay.x265.H...      B2   \n",
       "38                                        Powder(1995)      B1   \n",
       "209                                Suits S04E01 EngSub      C1   \n",
       "\n",
       "                                                   Srt  \n",
       "125                                                NaN  \n",
       "140                                                NaN  \n",
       "169                                                NaN  \n",
       "14   1\\n00:00:05,000 --> 00:00:15,000\\nCreated and ...  \n",
       "186                                                NaN  \n",
       "67   1\\n00:00:29,409 --> 00:00:33,697\\n<i>Drink up,...  \n",
       "109  1\\n00:00:02,400 --> 00:00:03,731\\n<i>Oh, my Go...  \n",
       "137                                                NaN  \n",
       "38   1\\n00:01:19,208 --> 00:01:20,333\\nEMT 1:\\nAll ...  \n",
       "209                                                NaN  "
      ]
     },
     "execution_count": 18,
     "metadata": {},
     "output_type": "execute_result"
    }
   ],
   "source": [
    "df_2_3.sample(10)"
   ]
  },
  {
   "cell_type": "code",
   "execution_count": 19,
   "id": "7e1b6d55",
   "metadata": {},
   "outputs": [],
   "source": [
    "df_all = df_2_3.merge(df_1, on='Movie', how='outer')"
   ]
  },
  {
   "cell_type": "code",
   "execution_count": 51,
   "id": "6e7c4495",
   "metadata": {},
   "outputs": [
    {
     "data": {
      "text/html": [
       "<div>\n",
       "<style scoped>\n",
       "    .dataframe tbody tr th:only-of-type {\n",
       "        vertical-align: middle;\n",
       "    }\n",
       "\n",
       "    .dataframe tbody tr th {\n",
       "        vertical-align: top;\n",
       "    }\n",
       "\n",
       "    .dataframe thead th {\n",
       "        text-align: right;\n",
       "    }\n",
       "</style>\n",
       "<table border=\"1\" class=\"dataframe\">\n",
       "  <thead>\n",
       "    <tr style=\"text-align: right;\">\n",
       "      <th></th>\n",
       "      <th>Movie</th>\n",
       "      <th>Level_x</th>\n",
       "      <th>Srt_x</th>\n",
       "      <th>Level_y</th>\n",
       "      <th>Srt_y</th>\n",
       "      <th>Level</th>\n",
       "      <th>Srt</th>\n",
       "    </tr>\n",
       "  </thead>\n",
       "  <tbody>\n",
       "    <tr>\n",
       "      <th>227</th>\n",
       "      <td>Suits.S03E03.480pHDTV.x264-mSD</td>\n",
       "      <td>C1</td>\n",
       "      <td>NaN</td>\n",
       "      <td>C1</td>\n",
       "      <td>ï»¿1\\n00:00:00,061 --&gt; 00:00:01,605\\nPreviousl...</td>\n",
       "      <td>C1</td>\n",
       "      <td>ï»¿1\\n00:00:00,061 --&gt; 00:00:01,605\\nPreviousl...</td>\n",
       "    </tr>\n",
       "    <tr>\n",
       "      <th>106</th>\n",
       "      <td>Up (2009)</td>\n",
       "      <td>A2</td>\n",
       "      <td>NaN</td>\n",
       "      <td>NaN</td>\n",
       "      <td>NaN</td>\n",
       "      <td>A2</td>\n",
       "      <td>NaN</td>\n",
       "    </tr>\n",
       "    <tr>\n",
       "      <th>280</th>\n",
       "      <td>Virgin.River.S01E01.INTERNAL.720p.WEB.x264-STRiFE</td>\n",
       "      <td>NaN</td>\n",
       "      <td>NaN</td>\n",
       "      <td>B2</td>\n",
       "      <td>1\\n00:00:23,982 --&gt; 00:00:26,362\\nâª I woke u...</td>\n",
       "      <td>B2</td>\n",
       "      <td>1\\n00:00:23,982 --&gt; 00:00:26,362\\nâª I woke u...</td>\n",
       "    </tr>\n",
       "    <tr>\n",
       "      <th>52</th>\n",
       "      <td>Logan(2017)</td>\n",
       "      <td>B1</td>\n",
       "      <td>1\\n00:00:58,157 --&gt; 00:00:59,715\\nMAN 1: We ge...</td>\n",
       "      <td>NaN</td>\n",
       "      <td>NaN</td>\n",
       "      <td>B1</td>\n",
       "      <td>1\\n00:00:58,157 --&gt; 00:00:59,715\\nMAN 1: We ge...</td>\n",
       "    </tr>\n",
       "  </tbody>\n",
       "</table>\n",
       "</div>"
      ],
      "text/plain": [
       "                                                 Movie Level_x  \\\n",
       "227                     Suits.S03E03.480pHDTV.x264-mSD      C1   \n",
       "106                                          Up (2009)      A2   \n",
       "280  Virgin.River.S01E01.INTERNAL.720p.WEB.x264-STRiFE     NaN   \n",
       "52                                         Logan(2017)      B1   \n",
       "\n",
       "                                                 Srt_x Level_y  \\\n",
       "227                                                NaN      C1   \n",
       "106                                                NaN     NaN   \n",
       "280                                                NaN      B2   \n",
       "52   1\\n00:00:58,157 --> 00:00:59,715\\nMAN 1: We ge...     NaN   \n",
       "\n",
       "                                                 Srt_y Level  \\\n",
       "227  ï»¿1\\n00:00:00,061 --> 00:00:01,605\\nPreviousl...    C1   \n",
       "106                                                NaN    A2   \n",
       "280  1\\n00:00:23,982 --> 00:00:26,362\\nâª I woke u...    B2   \n",
       "52                                                 NaN    B1   \n",
       "\n",
       "                                                   Srt  \n",
       "227  ï»¿1\\n00:00:00,061 --> 00:00:01,605\\nPreviousl...  \n",
       "106                                                NaN  \n",
       "280  1\\n00:00:23,982 --> 00:00:26,362\\nâª I woke u...  \n",
       "52   1\\n00:00:58,157 --> 00:00:59,715\\nMAN 1: We ge...  "
      ]
     },
     "execution_count": 51,
     "metadata": {},
     "output_type": "execute_result"
    }
   ],
   "source": [
    "df_all.sample(4)"
   ]
  },
  {
   "cell_type": "code",
   "execution_count": 21,
   "id": "c6c3f107",
   "metadata": {},
   "outputs": [
    {
     "data": {
      "text/plain": [
       "Movie        0\n",
       "Level_x     49\n",
       "Srt_x      171\n",
       "Level_y    127\n",
       "Srt_y      127\n",
       "dtype: int64"
      ]
     },
     "execution_count": 21,
     "metadata": {},
     "output_type": "execute_result"
    }
   ],
   "source": [
    "df_all.isna().sum()"
   ]
  },
  {
   "cell_type": "code",
   "execution_count": 22,
   "id": "60bb576b",
   "metadata": {},
   "outputs": [
    {
     "name": "stdout",
     "output_type": "stream",
     "text": [
      "<class 'pandas.core.frame.DataFrame'>\n",
      "RangeIndex: 290 entries, 0 to 289\n",
      "Data columns (total 5 columns):\n",
      " #   Column   Non-Null Count  Dtype \n",
      "---  ------   --------------  ----- \n",
      " 0   Movie    290 non-null    object\n",
      " 1   Level_x  241 non-null    object\n",
      " 2   Srt_x    119 non-null    object\n",
      " 3   Level_y  163 non-null    object\n",
      " 4   Srt_y    163 non-null    object\n",
      "dtypes: object(5)\n",
      "memory usage: 11.5+ KB\n"
     ]
    }
   ],
   "source": [
    "df_all.info()"
   ]
  },
  {
   "cell_type": "code",
   "execution_count": 23,
   "id": "38200946",
   "metadata": {},
   "outputs": [
    {
     "data": {
      "text/plain": [
       "array(['B1', 'B2', 'A2/A2+', 'C1', 'B1, B2', 'A2/A2+, B1', 'A2', nan],\n",
       "      dtype=object)"
      ]
     },
     "execution_count": 23,
     "metadata": {},
     "output_type": "execute_result"
    }
   ],
   "source": [
    "df_all['Level_x'].unique()"
   ]
  },
  {
   "cell_type": "code",
   "execution_count": 24,
   "id": "060bef88",
   "metadata": {},
   "outputs": [
    {
     "data": {
      "text/plain": [
       "array([nan, 'A2', 'B1', 'B2', 'C1'], dtype=object)"
      ]
     },
     "execution_count": 24,
     "metadata": {},
     "output_type": "execute_result"
    }
   ],
   "source": [
    "df_all['Level_y'].unique()"
   ]
  },
  {
   "cell_type": "code",
   "execution_count": 25,
   "id": "386b07f6",
   "metadata": {},
   "outputs": [],
   "source": [
    "df_all['Level_x'] = df_all['Level_x'].replace('A2/A2+', 'A2')\n",
    "df_all['Level_x'] = df_all['Level_x'].replace('A2/A2+, B1', 'B1')"
   ]
  },
  {
   "cell_type": "code",
   "execution_count": 26,
   "id": "8f871802",
   "metadata": {},
   "outputs": [],
   "source": [
    "df_all['Level_x'] = df_all['Level_x'].replace('B1, B2', 'B2')"
   ]
  },
  {
   "cell_type": "code",
   "execution_count": 27,
   "id": "40706079",
   "metadata": {},
   "outputs": [
    {
     "data": {
      "text/plain": [
       "array(['B1', 'B2', 'A2', 'C1', nan], dtype=object)"
      ]
     },
     "execution_count": 27,
     "metadata": {},
     "output_type": "execute_result"
    }
   ],
   "source": [
    "df_all['Level_x'].unique()"
   ]
  },
  {
   "cell_type": "code",
   "execution_count": 28,
   "id": "5a342e99",
   "metadata": {},
   "outputs": [
    {
     "name": "stdout",
     "output_type": "stream",
     "text": [
      "Строк с разными значениями в столбцах Label_x и Label_y: 0\n"
     ]
    }
   ],
   "source": [
    "print('Строк с разными значениями в столбцах Label_x и Label_y:',\\\n",
    "    len(df_all.loc[(df_all['Level_x'].notna())&(df_all['Level_y'].notna()) & (df_all['Level_x']!=df_all['Level_y'])]))"
   ]
  },
  {
   "cell_type": "markdown",
   "id": "66d0c33e",
   "metadata": {},
   "source": [
    "Значит, просто заполним пропуски переносом значений из одного стобца в другой."
   ]
  },
  {
   "cell_type": "code",
   "execution_count": 29,
   "id": "278d43a7",
   "metadata": {},
   "outputs": [],
   "source": [
    "df_all['Level']=df_all['Level_x'].fillna(df_all['Level_y'])"
   ]
  },
  {
   "cell_type": "code",
   "execution_count": 30,
   "id": "11f683e8",
   "metadata": {
    "scrolled": true
   },
   "outputs": [
    {
     "data": {
      "text/plain": [
       "array(['B1', 'B2', 'A2', 'C1', nan], dtype=object)"
      ]
     },
     "execution_count": 30,
     "metadata": {},
     "output_type": "execute_result"
    }
   ],
   "source": [
    "df_all['Level'].unique()"
   ]
  },
  {
   "cell_type": "code",
   "execution_count": 31,
   "id": "206eb7c6",
   "metadata": {},
   "outputs": [
    {
     "name": "stdout",
     "output_type": "stream",
     "text": [
      "<class 'pandas.core.frame.DataFrame'>\n",
      "RangeIndex: 290 entries, 0 to 289\n",
      "Data columns (total 6 columns):\n",
      " #   Column   Non-Null Count  Dtype \n",
      "---  ------   --------------  ----- \n",
      " 0   Movie    290 non-null    object\n",
      " 1   Level_x  241 non-null    object\n",
      " 2   Srt_x    119 non-null    object\n",
      " 3   Level_y  163 non-null    object\n",
      " 4   Srt_y    163 non-null    object\n",
      " 5   Level    281 non-null    object\n",
      "dtypes: object(6)\n",
      "memory usage: 13.7+ KB\n"
     ]
    }
   ],
   "source": [
    "df_all.info()"
   ]
  },
  {
   "cell_type": "markdown",
   "id": "a47150a1",
   "metadata": {},
   "source": [
    "Также проверим, есть ли несовпадения по субтитрам."
   ]
  },
  {
   "cell_type": "code",
   "execution_count": 33,
   "id": "fd6f1d42",
   "metadata": {
    "scrolled": true
   },
   "outputs": [
    {
     "name": "stdout",
     "output_type": "stream",
     "text": [
      "Строк с разными значениями в столбцах Srt_x и Srt_y: 0\n"
     ]
    }
   ],
   "source": [
    "print('Строк с разными значениями в столбцах Srt_x и Srt_y:',\\\n",
    "    len(df_all.loc[(df_all['Srt_x'].notna())&(df_all['Srt_y'].notna()) & (df_all['Srt_x']!=df_all['Srt_y'])]))"
   ]
  },
  {
   "cell_type": "code",
   "execution_count": 34,
   "id": "0c12bbb7",
   "metadata": {},
   "outputs": [],
   "source": [
    "df_all['Srt']=df_all['Srt_x'].fillna(df_all['Srt_y'])"
   ]
  },
  {
   "cell_type": "code",
   "execution_count": 35,
   "id": "1b736595",
   "metadata": {
    "scrolled": true
   },
   "outputs": [
    {
     "name": "stdout",
     "output_type": "stream",
     "text": [
      "<class 'pandas.core.frame.DataFrame'>\n",
      "RangeIndex: 290 entries, 0 to 289\n",
      "Data columns (total 7 columns):\n",
      " #   Column   Non-Null Count  Dtype \n",
      "---  ------   --------------  ----- \n",
      " 0   Movie    290 non-null    object\n",
      " 1   Level_x  241 non-null    object\n",
      " 2   Srt_x    119 non-null    object\n",
      " 3   Level_y  163 non-null    object\n",
      " 4   Srt_y    163 non-null    object\n",
      " 5   Level    281 non-null    object\n",
      " 6   Srt      282 non-null    object\n",
      "dtypes: object(7)\n",
      "memory usage: 16.0+ KB\n"
     ]
    }
   ],
   "source": [
    "df_all.info()"
   ]
  },
  {
   "cell_type": "code",
   "execution_count": 36,
   "id": "7a1c6250",
   "metadata": {},
   "outputs": [
    {
     "data": {
      "text/plain": [
       "Index(['Movie', 'Level_x', 'Srt_x', 'Level_y', 'Srt_y', 'Level', 'Srt'], dtype='object')"
      ]
     },
     "execution_count": 36,
     "metadata": {},
     "output_type": "execute_result"
    }
   ],
   "source": [
    "df_all.columns"
   ]
  },
  {
   "cell_type": "code",
   "execution_count": 37,
   "id": "cc8c3b65",
   "metadata": {},
   "outputs": [],
   "source": [
    "df = df_all.copy().drop(columns=['Level_x', 'Srt_x', 'Level_y', 'Srt_y'])"
   ]
  },
  {
   "cell_type": "code",
   "execution_count": 38,
   "id": "dca17871",
   "metadata": {
    "scrolled": true
   },
   "outputs": [
    {
     "name": "stdout",
     "output_type": "stream",
     "text": [
      "<class 'pandas.core.frame.DataFrame'>\n",
      "RangeIndex: 290 entries, 0 to 289\n",
      "Data columns (total 3 columns):\n",
      " #   Column  Non-Null Count  Dtype \n",
      "---  ------  --------------  ----- \n",
      " 0   Movie   290 non-null    object\n",
      " 1   Level   281 non-null    object\n",
      " 2   Srt     282 non-null    object\n",
      "dtypes: object(3)\n",
      "memory usage: 6.9+ KB\n"
     ]
    }
   ],
   "source": [
    "df.info()"
   ]
  },
  {
   "cell_type": "markdown",
   "id": "52e1571a",
   "metadata": {},
   "source": [
    "Если пропуски в разных строках, то удалится в общей сложности 17 строк. Пока восстанавливать пропущенные значения не буду - надо смочь выполнить работу в минимальном объёме."
   ]
  },
  {
   "cell_type": "code",
   "execution_count": 39,
   "id": "d1128226",
   "metadata": {
    "scrolled": true
   },
   "outputs": [],
   "source": [
    "df = df.dropna(subset=['Level', 'Srt'])"
   ]
  },
  {
   "cell_type": "code",
   "execution_count": 40,
   "id": "aa88b86b",
   "metadata": {
    "scrolled": true
   },
   "outputs": [
    {
     "name": "stdout",
     "output_type": "stream",
     "text": [
      "<class 'pandas.core.frame.DataFrame'>\n",
      "Index: 273 entries, 0 to 289\n",
      "Data columns (total 3 columns):\n",
      " #   Column  Non-Null Count  Dtype \n",
      "---  ------  --------------  ----- \n",
      " 0   Movie   273 non-null    object\n",
      " 1   Level   273 non-null    object\n",
      " 2   Srt     273 non-null    object\n",
      "dtypes: object(3)\n",
      "memory usage: 8.5+ KB\n"
     ]
    }
   ],
   "source": [
    "df.info()"
   ]
  },
  {
   "cell_type": "markdown",
   "id": "c45f05b0",
   "metadata": {},
   "source": [
    "Теперь посмотрим на дубли. Найдём - удалим."
   ]
  },
  {
   "cell_type": "code",
   "execution_count": 41,
   "id": "213d3a40",
   "metadata": {},
   "outputs": [
    {
     "data": {
      "text/plain": [
       "3"
      ]
     },
     "execution_count": 41,
     "metadata": {},
     "output_type": "execute_result"
    }
   ],
   "source": [
    "df.duplicated().sum()"
   ]
  },
  {
   "cell_type": "code",
   "execution_count": 42,
   "id": "12fdafb1",
   "metadata": {
    "scrolled": true
   },
   "outputs": [
    {
     "data": {
      "text/html": [
       "<div>\n",
       "<style scoped>\n",
       "    .dataframe tbody tr th:only-of-type {\n",
       "        vertical-align: middle;\n",
       "    }\n",
       "\n",
       "    .dataframe tbody tr th {\n",
       "        vertical-align: top;\n",
       "    }\n",
       "\n",
       "    .dataframe thead th {\n",
       "        text-align: right;\n",
       "    }\n",
       "</style>\n",
       "<table border=\"1\" class=\"dataframe\">\n",
       "  <thead>\n",
       "    <tr style=\"text-align: right;\">\n",
       "      <th></th>\n",
       "      <th>Movie</th>\n",
       "      <th>Level</th>\n",
       "      <th>Srt</th>\n",
       "    </tr>\n",
       "  </thead>\n",
       "  <tbody>\n",
       "    <tr>\n",
       "      <th>0</th>\n",
       "      <td>10_Cloverfield_lane(2016)</td>\n",
       "      <td>B1</td>\n",
       "      <td>1\\n00:00:55,279 --&gt; 00:01:07,279\\n&lt;font color=...</td>\n",
       "    </tr>\n",
       "    <tr>\n",
       "      <th>1</th>\n",
       "      <td>10_things_I_hate_about_you(1999)</td>\n",
       "      <td>B1</td>\n",
       "      <td>1\\n00:01:54,281 --&gt; 00:01:55,698\\nHey!\\n\\n2\\n0...</td>\n",
       "    </tr>\n",
       "    <tr>\n",
       "      <th>2</th>\n",
       "      <td>A_knights_tale(2001)</td>\n",
       "      <td>B2</td>\n",
       "      <td>1\\n00:00:15,089 --&gt; 00:00:21,229\\nResync: Xenz...</td>\n",
       "    </tr>\n",
       "    <tr>\n",
       "      <th>3</th>\n",
       "      <td>A_star_is_born(2018)</td>\n",
       "      <td>B2</td>\n",
       "      <td>1\\n00:00:17,610 --&gt; 00:00:22,610\\n- &lt;i&gt;&lt;font c...</td>\n",
       "    </tr>\n",
       "    <tr>\n",
       "      <th>4</th>\n",
       "      <td>Aladdin(1992)</td>\n",
       "      <td>A2</td>\n",
       "      <td>1\\n00:00:27,240 --&gt; 00:00:30,879\\n&lt;i&gt;Oh, I com...</td>\n",
       "    </tr>\n",
       "    <tr>\n",
       "      <th>...</th>\n",
       "      <td>...</td>\n",
       "      <td>...</td>\n",
       "      <td>...</td>\n",
       "    </tr>\n",
       "    <tr>\n",
       "      <th>285</th>\n",
       "      <td>Virgin.River.S01E06.INTERNAL.720p.WEB.x264-STRiFE</td>\n",
       "      <td>B2</td>\n",
       "      <td>1\\n00:00:18,852 --&gt; 00:00:19,852\\nHey.\\n\\n2\\n0...</td>\n",
       "    </tr>\n",
       "    <tr>\n",
       "      <th>286</th>\n",
       "      <td>Virgin.River.S01E07.INTERNAL.720p.WEB.x264-STRiFE</td>\n",
       "      <td>B2</td>\n",
       "      <td>1\\n00:00:10,468 --&gt; 00:00:13,178\\nAre you sure...</td>\n",
       "    </tr>\n",
       "    <tr>\n",
       "      <th>287</th>\n",
       "      <td>Virgin.River.S01E08.INTERNAL.720p.WEB.x264-STRiFE</td>\n",
       "      <td>B2</td>\n",
       "      <td>1\\n00:00:07,382 --&gt; 00:00:10,012\\nTwo IVs in p...</td>\n",
       "    </tr>\n",
       "    <tr>\n",
       "      <th>288</th>\n",
       "      <td>Virgin.River.S01E09.INTERNAL.720p.WEB.x264-STRiFE</td>\n",
       "      <td>B2</td>\n",
       "      <td>1\\n00:00:16,474 --&gt; 00:00:18,024\\nOh.\\n\\n2\\n00...</td>\n",
       "    </tr>\n",
       "    <tr>\n",
       "      <th>289</th>\n",
       "      <td>Virgin.River.S01E10.INTERNAL.720p.WEB.x264-STRiFE</td>\n",
       "      <td>B2</td>\n",
       "      <td>1\\n00:00:07,424 --&gt; 00:00:08,844\\nSo, how long...</td>\n",
       "    </tr>\n",
       "  </tbody>\n",
       "</table>\n",
       "<p>270 rows × 3 columns</p>\n",
       "</div>"
      ],
      "text/plain": [
       "                                                 Movie Level  \\\n",
       "0                            10_Cloverfield_lane(2016)    B1   \n",
       "1                     10_things_I_hate_about_you(1999)    B1   \n",
       "2                                 A_knights_tale(2001)    B2   \n",
       "3                                 A_star_is_born(2018)    B2   \n",
       "4                                        Aladdin(1992)    A2   \n",
       "..                                                 ...   ...   \n",
       "285  Virgin.River.S01E06.INTERNAL.720p.WEB.x264-STRiFE    B2   \n",
       "286  Virgin.River.S01E07.INTERNAL.720p.WEB.x264-STRiFE    B2   \n",
       "287  Virgin.River.S01E08.INTERNAL.720p.WEB.x264-STRiFE    B2   \n",
       "288  Virgin.River.S01E09.INTERNAL.720p.WEB.x264-STRiFE    B2   \n",
       "289  Virgin.River.S01E10.INTERNAL.720p.WEB.x264-STRiFE    B2   \n",
       "\n",
       "                                                   Srt  \n",
       "0    1\\n00:00:55,279 --> 00:01:07,279\\n<font color=...  \n",
       "1    1\\n00:01:54,281 --> 00:01:55,698\\nHey!\\n\\n2\\n0...  \n",
       "2    1\\n00:00:15,089 --> 00:00:21,229\\nResync: Xenz...  \n",
       "3    1\\n00:00:17,610 --> 00:00:22,610\\n- <i><font c...  \n",
       "4    1\\n00:00:27,240 --> 00:00:30,879\\n<i>Oh, I com...  \n",
       "..                                                 ...  \n",
       "285  1\\n00:00:18,852 --> 00:00:19,852\\nHey.\\n\\n2\\n0...  \n",
       "286  1\\n00:00:10,468 --> 00:00:13,178\\nAre you sure...  \n",
       "287  1\\n00:00:07,382 --> 00:00:10,012\\nTwo IVs in p...  \n",
       "288  1\\n00:00:16,474 --> 00:00:18,024\\nOh.\\n\\n2\\n00...  \n",
       "289  1\\n00:00:07,424 --> 00:00:08,844\\nSo, how long...  \n",
       "\n",
       "[270 rows x 3 columns]"
      ]
     },
     "execution_count": 42,
     "metadata": {},
     "output_type": "execute_result"
    }
   ],
   "source": [
    "df.drop_duplicates()"
   ]
  },
  {
   "cell_type": "code",
   "execution_count": 43,
   "id": "050c3ca8",
   "metadata": {},
   "outputs": [],
   "source": [
    "import numpy as np\n",
    "\n",
    "np.random.seed(123)\n",
    "df = df.reindex(np.random.permutation(df.index)).reset_index()"
   ]
  },
  {
   "cell_type": "code",
   "execution_count": 44,
   "id": "ceaf20ba",
   "metadata": {},
   "outputs": [],
   "source": [
    "#При сохранении в формате csv теряется часть строк субтитров, видимо, из-за служебных символов.\n",
    "#Пока не решила эту проблему, не сохраняю в файл.\n",
    "\n",
    "#df.to_csv('./master2/movie_data.csv', index=False)\n",
    "\n",
    "#df = pd.read_csv('./master2/movie_data.csv')\n",
    "#df.head(8)"
   ]
  },
  {
   "cell_type": "code",
   "execution_count": 45,
   "id": "9b5bd739",
   "metadata": {},
   "outputs": [
    {
     "data": {
      "text/html": [
       "<div>\n",
       "<style scoped>\n",
       "    .dataframe tbody tr th:only-of-type {\n",
       "        vertical-align: middle;\n",
       "    }\n",
       "\n",
       "    .dataframe tbody tr th {\n",
       "        vertical-align: top;\n",
       "    }\n",
       "\n",
       "    .dataframe thead th {\n",
       "        text-align: right;\n",
       "    }\n",
       "</style>\n",
       "<table border=\"1\" class=\"dataframe\">\n",
       "  <thead>\n",
       "    <tr style=\"text-align: right;\">\n",
       "      <th></th>\n",
       "      <th>index</th>\n",
       "      <th>Movie</th>\n",
       "      <th>Level</th>\n",
       "      <th>Srt</th>\n",
       "    </tr>\n",
       "  </thead>\n",
       "  <tbody>\n",
       "    <tr>\n",
       "      <th>0</th>\n",
       "      <td>169</td>\n",
       "      <td>Suits.Episode 7- Hitting Home</td>\n",
       "      <td>B2</td>\n",
       "      <td>ï»¿1\\n00:00:07,364 --&gt; 00:00:09,093\\n&lt;i&gt;You wa...</td>\n",
       "    </tr>\n",
       "    <tr>\n",
       "      <th>1</th>\n",
       "      <td>221</td>\n",
       "      <td>Suits S04E13 EngSub</td>\n",
       "      <td>C1</td>\n",
       "      <td>ÿþ1\u0000\\n\u0000\\n\u00000\u00000\u0000:\u00000\u00000\u0000:\u00000\u00001\u0000,\u00008\u00002\u00006\u0000 \u0000-\u0000-\u0000&gt;\u0000 \u00000\u0000...</td>\n",
       "    </tr>\n",
       "    <tr>\n",
       "      <th>2</th>\n",
       "      <td>130</td>\n",
       "      <td>Seven.Worlds.One.Planet.S01E07.2160p.BluRay.Re...</td>\n",
       "      <td>B1</td>\n",
       "      <td>ï»¿1\\n00:00:50,176 --&gt; 00:00:51,677\\nAfrica.\\n...</td>\n",
       "    </tr>\n",
       "    <tr>\n",
       "      <th>3</th>\n",
       "      <td>260</td>\n",
       "      <td>Crown, The S01E05 - Smoke and Mirrors.en.FORCED</td>\n",
       "      <td>B2</td>\n",
       "      <td>ï»¿1\\n00:41:36,960 --&gt; 00:41:39,960\\n&lt;i&gt;For th...</td>\n",
       "    </tr>\n",
       "    <tr>\n",
       "      <th>4</th>\n",
       "      <td>219</td>\n",
       "      <td>Suits S04E11 EngSub</td>\n",
       "      <td>C1</td>\n",
       "      <td>ÿþ1\u0000\\n\u0000\\n\u00000\u00000\u0000:\u00000\u00000\u0000:\u00000\u00002\u0000,\u00003\u00002\u00006\u0000 \u0000-\u0000-\u0000&gt;\u0000 \u00000\u0000...</td>\n",
       "    </tr>\n",
       "    <tr>\n",
       "      <th>5</th>\n",
       "      <td>19</td>\n",
       "      <td>Cast_away(2000)</td>\n",
       "      <td>A2</td>\n",
       "      <td>1\\n00:00:05,000 --&gt; 00:00:15,000\\nCreated and ...</td>\n",
       "    </tr>\n",
       "    <tr>\n",
       "      <th>6</th>\n",
       "      <td>224</td>\n",
       "      <td>Suits S04E16 EngSub</td>\n",
       "      <td>C1</td>\n",
       "      <td>ÿþ1\u0000\\n\u0000\\n\u00000\u00000\u0000:\u00000\u00000\u0000:\u00000\u00001\u0000,\u00007\u00007\u00000\u0000 \u0000-\u0000-\u0000&gt;\u0000 \u00000\u0000...</td>\n",
       "    </tr>\n",
       "    <tr>\n",
       "      <th>7</th>\n",
       "      <td>80</td>\n",
       "      <td>The_Intern(2015)</td>\n",
       "      <td>B2</td>\n",
       "      <td>1\\n00:01:11,418 --&gt; 00:01:14,887\\nFreud said, ...</td>\n",
       "    </tr>\n",
       "  </tbody>\n",
       "</table>\n",
       "</div>"
      ],
      "text/plain": [
       "   index                                              Movie Level  \\\n",
       "0    169                      Suits.Episode 7- Hitting Home    B2   \n",
       "1    221                                Suits S04E13 EngSub    C1   \n",
       "2    130  Seven.Worlds.One.Planet.S01E07.2160p.BluRay.Re...    B1   \n",
       "3    260    Crown, The S01E05 - Smoke and Mirrors.en.FORCED    B2   \n",
       "4    219                                Suits S04E11 EngSub    C1   \n",
       "5     19                                    Cast_away(2000)    A2   \n",
       "6    224                                Suits S04E16 EngSub    C1   \n",
       "7     80                                   The_Intern(2015)    B2   \n",
       "\n",
       "                                                 Srt  \n",
       "0  ï»¿1\\n00:00:07,364 --> 00:00:09,093\\n<i>You wa...  \n",
       "1  ÿþ1\u0000\\n\u0000\\n\u00000\u00000\u0000:\u00000\u00000\u0000:\u00000\u00001\u0000,\u00008\u00002\u00006\u0000 \u0000-\u0000-\u0000>\u0000 \u00000\u0000...  \n",
       "2  ï»¿1\\n00:00:50,176 --> 00:00:51,677\\nAfrica.\\n...  \n",
       "3  ï»¿1\\n00:41:36,960 --> 00:41:39,960\\n<i>For th...  \n",
       "4  ÿþ1\u0000\\n\u0000\\n\u00000\u00000\u0000:\u00000\u00000\u0000:\u00000\u00002\u0000,\u00003\u00002\u00006\u0000 \u0000-\u0000-\u0000>\u0000 \u00000\u0000...  \n",
       "5  1\\n00:00:05,000 --> 00:00:15,000\\nCreated and ...  \n",
       "6  ÿþ1\u0000\\n\u0000\\n\u00000\u00000\u0000:\u00000\u00000\u0000:\u00000\u00001\u0000,\u00007\u00007\u00000\u0000 \u0000-\u0000-\u0000>\u0000 \u00000\u0000...  \n",
       "7  1\\n00:01:11,418 --> 00:01:14,887\\nFreud said, ...  "
      ]
     },
     "execution_count": 45,
     "metadata": {},
     "output_type": "execute_result"
    }
   ],
   "source": [
    "df.head(8)"
   ]
  },
  {
   "cell_type": "code",
   "execution_count": null,
   "id": "d4682ee1",
   "metadata": {},
   "outputs": [],
   "source": [
    "df.drop('index', axis=1)"
   ]
  },
  {
   "cell_type": "code",
   "execution_count": null,
   "id": "118b76e0",
   "metadata": {},
   "outputs": [],
   "source": [
    "del df_1, df_2, df_3, df_2_3, df_all"
   ]
  },
  {
   "cell_type": "markdown",
   "id": "2357aecf",
   "metadata": {},
   "source": [
    "Удалила уже ненужные переменные."
   ]
  },
  {
   "cell_type": "markdown",
   "id": "d72f438b",
   "metadata": {},
   "source": [
    "### Обработка субтитров\n",
    "\n",
    "Необходимо преобразовать текст в числовую форму, удобную для моделирования.\n",
    "\n",
    "Сначала избавимся от лишних символов, стоп-слов и скобок."
   ]
  },
  {
   "cell_type": "code",
   "execution_count": null,
   "id": "c3be2f23",
   "metadata": {},
   "outputs": [],
   "source": []
  },
  {
   "cell_type": "code",
   "execution_count": null,
   "id": "7182bdf6",
   "metadata": {},
   "outputs": [],
   "source": []
  },
  {
   "cell_type": "code",
   "execution_count": null,
   "id": "dd29a082",
   "metadata": {},
   "outputs": [],
   "source": []
  },
  {
   "cell_type": "code",
   "execution_count": null,
   "id": "77a41462",
   "metadata": {},
   "outputs": [],
   "source": []
  },
  {
   "cell_type": "code",
   "execution_count": null,
   "id": "264fe569",
   "metadata": {},
   "outputs": [],
   "source": []
  },
  {
   "cell_type": "code",
   "execution_count": null,
   "id": "d529d413",
   "metadata": {},
   "outputs": [],
   "source": []
  },
  {
   "cell_type": "code",
   "execution_count": null,
   "id": "9ba7a828",
   "metadata": {},
   "outputs": [],
   "source": []
  },
  {
   "cell_type": "code",
   "execution_count": null,
   "id": "647aeb19",
   "metadata": {},
   "outputs": [],
   "source": []
  }
 ],
 "metadata": {
  "kernelspec": {
   "display_name": "Python 3 (ipykernel)",
   "language": "python",
   "name": "python3"
  },
  "language_info": {
   "codemirror_mode": {
    "name": "ipython",
    "version": 3
   },
   "file_extension": ".py",
   "mimetype": "text/x-python",
   "name": "python",
   "nbconvert_exporter": "python",
   "pygments_lexer": "ipython3",
   "version": "3.9.7"
  }
 },
 "nbformat": 4,
 "nbformat_minor": 5
}
